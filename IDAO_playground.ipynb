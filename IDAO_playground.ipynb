{
  "nbformat": 4,
  "nbformat_minor": 0,
  "metadata": {
    "colab": {
      "name": "IDAO_playground.ipynb",
      "provenance": [],
      "collapsed_sections": [
        "Bg1Q74aoVXwB",
        "-Uy28f7fiKzy"
      ]
    },
    "kernelspec": {
      "name": "python3",
      "display_name": "Python 3"
    }
  },
  "cells": [
    {
      "cell_type": "code",
      "metadata": {
        "id": "7kqp6tkNByMW"
      },
      "source": [
        "!tar xf C:\\\\Users\\\\Timofey\\\\Downloads\\\\track_1.tar\n",
        "# unpacks .tar to somewhere"
      ],
      "execution_count": null,
      "outputs": []
    },
    {
      "cell_type": "markdown",
      "metadata": {
        "id": "1Y1nogmyCFWe"
      },
      "source": [
        "Распаковал архивчик, потом нужно как-то из него получить dataloader\n",
        "\n",
        "у меня 2 общие стратегии на уме (я пока не умею никак с фотками работать кроме как давать их нейронкам)\n",
        "\n",
        "1. фото -> нейронка -> что-то сжатое -> бустинг\n",
        "2. фото -> нейронка\n",
        "\n",
        "У меня есть код с дзшек такой. Я думаю надо что-то похожее получить"
      ]
    },
    {
      "cell_type": "code",
      "metadata": {
        "id": "PkDJfbFrCEft"
      },
      "source": [
        "import torch\n",
        "import torch.nn as nn\n",
        "\n",
        "from torch.utils.data import Dataset, DataLoader\n",
        "from torchvision import transforms\n",
        "\n",
        "import numpy as np\n",
        "\n",
        "import matplotlib.pyplot as plt\n",
        "%matplotlib inline\n",
        "import os\n",
        "os.environ[\"KMP_DUPLICATE_LIB_OK\"]=\"TRUE\"\n",
        "device = torch.device('cuda:0')\n",
        "\n",
        "from tqdm import tqdm\n",
        "from time import sleep\n",
        "from PIL import Image"
      ],
      "execution_count": null,
      "outputs": []
    },
    {
      "cell_type": "code",
      "metadata": {
        "id": "CPVUlM04Cn8v"
      },
      "source": [
        "from skimage import color\n",
        "\n",
        "class ColorizationDataset(Dataset):\n",
        "    def __init__(self, path, transform_x, transform_y, is_lab = False):\n",
        "        self.transform_x = transform_x\n",
        "        self.transform_y = transform_y\n",
        "        self.is_lab = is_lab\n",
        "        filenames = []\n",
        "        for root, dirs, files in os.walk(path):\n",
        "            for file in files:\n",
        "                if file.endswith('.jpg') or file.endswith('.JPG'):\n",
        "                    filenames.append(os.path.join(root, file))\n",
        "\n",
        "        self.images = []\n",
        "        for filename in tqdm(filenames):\n",
        "            try:\n",
        "                with Image.open(filename) as image:\n",
        "                    self.images.append(image.copy())\n",
        "            except:\n",
        "                pass\n",
        "                #print('Could not load image:', filename)\n",
        "\n",
        "    def __len__(self):\n",
        "        return len(self.images)\n",
        "\n",
        "    def __getitem__(self, idx):\n",
        "        img = self.images[idx]\n",
        "        Y = self.transform_y(img)\n",
        "        if self.is_lab:\n",
        "            Y = color.rgb2lab(to_numpy_image(Y))\n",
        "            Y = to_torch_tensor(Y)\n",
        "        X = self.transform_x(Y)\n",
        "        return X, Y"
      ],
      "execution_count": null,
      "outputs": []
    },
    {
      "cell_type": "code",
      "metadata": {
        "id": "cWpsPgCICslY"
      },
      "source": [
        "dataset = ColorizationDataset('universum-photos', to_grayscale, transform_all) # какие-то параметры - не оч важно какие\n",
        "loader = DataLoader(dataset, batch_size=32, shuffle=True)"
      ],
      "execution_count": null,
      "outputs": []
    },
    {
      "cell_type": "markdown",
      "metadata": {
        "id": "2584I11umcUn"
      },
      "source": [
        "\n",
        "\n",
        "---\n",
        "\n",
        "# Solution\n"
      ]
    },
    {
      "cell_type": "code",
      "metadata": {
        "id": "00S4lptCqcsC"
      },
      "source": [
        "import torch\n",
        "import torch.nn as nn\n",
        "\n",
        "from torch.utils.data import Dataset, DataLoader, random_split\n",
        "from torchvision import transforms\n",
        "\n",
        "import numpy as np\n",
        "import pandas as pd\n",
        "\n",
        "import matplotlib.pyplot as plt\n",
        "%matplotlib inline\n",
        "import os\n",
        "os.environ[\"KMP_DUPLICATE_LIB_OK\"]=\"TRUE\"\n",
        "device = torch.device('cuda:0')\n",
        "\n",
        "from tqdm import tqdm\n",
        "from PIL import Image\n",
        "from skimage import color\n",
        "\n",
        "from sklearn.metrics import accuracy_score\n",
        "from sklearn.metrics import roc_auc_score\n",
        "from sklearn.metrics import mean_absolute_error"
      ],
      "execution_count": null,
      "outputs": []
    },
    {
      "cell_type": "code",
      "metadata": {
        "id": "TIbqumynnq45"
      },
      "source": [
        "image_size = 256\n",
        "class IDAO_data(Dataset):\n",
        "    def __init__(self, path, transforms_img, is_train=True):\n",
        "        self.is_train = is_train\n",
        "        self.transforms_img = transforms_img\n",
        "        filenames = []\n",
        "        for root, dirs, files in os.walk(path):\n",
        "            for file in files:\n",
        "                if file.endswith('.png') or file.endswith('.PNG'):\n",
        "                    filenames.append(os.path.join(root, file))\n",
        "\n",
        "        self.images = []\n",
        "        self.paths = []\n",
        "        for filename in tqdm(filenames):\n",
        "            try:\n",
        "                with Image.open(filename) as image:\n",
        "                    self.images.append(image.copy())\n",
        "                    self.paths.append(filename)\n",
        "            except:\n",
        "                print('Could not load image:', filename)\n",
        "\n",
        "    def __len__(self):\n",
        "        return len(self.images)\n",
        "\n",
        "    def __getitem__(self, idx):\n",
        "        img = self.images[idx]\n",
        "        return self.transforms_img(img).view(1, image_size, image_size), idx\n",
        "    \n",
        "    def get_image(self, idx):\n",
        "        return self.images[idx]\n",
        "\n",
        "    def get_filename(self, idx):\n",
        "        return self.paths[idx]"
      ],
      "execution_count": null,
      "outputs": []
    },
    {
      "cell_type": "code",
      "metadata": {
        "colab": {
          "base_uri": "https://localhost:8080/"
        },
        "id": "QrP3MSWrqq4r",
        "outputId": "ae85cd19-717f-4874-8c46-003be8590d65"
      },
      "source": [
        "transforms_all = transforms.Compose([\n",
        "    transforms.CenterCrop((image_size, image_size)),\n",
        "    # transforms.ColorJitter(contrast=[2.5, 2.5]),\n",
        "    transforms.ColorJitter(contrast=[3.0, 3.0]),\n",
        "    transforms.ToTensor(),\n",
        "])\n",
        "\n",
        "# dataset = IDAO_data('idao_dataset\\\\train', transforms_all)\n",
        "dataset_test = IDAO_data('idao_dataset\\\\test_new', transforms_all)\n",
        "# len_train = int(len(dataset) * 0.9)\n",
        "# len_test = len(dataset) - len_train\n",
        "# dataset_train, dataset_val = random_split(dataset, [len_train, len_test])\n",
        "# loader = DataLoader(dataset, batch_size=16, shuffle=True) \n",
        "loader_test = DataLoader(dataset_test, batch_size=8, shuffle=False) "
      ],
      "execution_count": null,
      "outputs": [
        {
          "output_type": "stream",
          "text": [
            "100%|███████████████████████████████████████████████████████████████████████████| 16560/16560 [01:49<00:00, 151.00it/s]\n"
          ],
          "name": "stderr"
        }
      ]
    },
    {
      "cell_type": "code",
      "metadata": {
        "colab": {
          "base_uri": "https://localhost:8080/"
        },
        "id": "IB8BwXyRd5pP",
        "outputId": "fef53c47-5812-4e08-e752-ddaa6c2448a5"
      },
      "source": [
        "len_test"
      ],
      "execution_count": null,
      "outputs": [
        {
          "output_type": "execute_result",
          "data": {
            "text/plain": [
              "1341"
            ]
          },
          "metadata": {
            "tags": []
          },
          "execution_count": 4
        }
      ]
    },
    {
      "cell_type": "code",
      "metadata": {
        "colab": {
          "base_uri": "https://localhost:8080/",
          "height": 273
        },
        "id": "v0k84DdsQEMs",
        "outputId": "7d8d70eb-b35a-4660-c44e-6da1d0493a71"
      },
      "source": [
        "transforms.CenterCrop((256, 256))(dataset.get_image(dataset_train[1335][1]))"
      ],
      "execution_count": null,
      "outputs": [
        {
          "output_type": "execute_result",
          "data": {
            "text/plain": [
              "<PIL.Image.Image image mode=L size=256x256 at 0x207B395CD00>"
            ],
            "image/png": "[encoded data removed]"
          },
          "metadata": {
            "tags": []
          },
          "execution_count": 6
        }
      ]
    },
    {
      "cell_type": "markdown",
      "metadata": {
        "id": "N0vX3hsI5gFO"
      },
      "source": [
        "Теперь у нас есть DataLoader, и мы можем по нему итерироваться. К тому же есть *dataset*. У него есть такой функционал:\n",
        "\n",
        "\n",
        "* [i] -- returns (torch tensor of shape (1, h, w), i)  of *i*-th image\n",
        "* get_filename(i) -- returns path of *i*-th image\n",
        "* get_image(i) -- returns PIL.Image of *i*-th image"
      ]
    },
    {
      "cell_type": "code",
      "metadata": {
        "colab": {
          "base_uri": "https://localhost:8080/"
        },
        "id": "_4sfqMstUYxk",
        "outputId": "417f909f-1253-49ce-b538-121506dbf36a"
      },
      "source": [
        "dataset_test.get_filename(1)"
      ],
      "execution_count": null,
      "outputs": [
        {
          "output_type": "execute_result",
          "data": {
            "text/plain": [
              "'idao_dataset\\\\test_new\\\\private_test\\\\0005564c011259402dcb6e3beb6e64d285124fa0.png'"
            ]
          },
          "metadata": {
            "tags": []
          },
          "execution_count": 6
        }
      ]
    },
    {
      "cell_type": "code",
      "metadata": {
        "id": "OPfmtpHuuda3"
      },
      "source": [
        "def parse_filename(name):\n",
        "    index = name.find(\"_ER_\")\n",
        "    if (index == -1):\n",
        "        index = name.find(\"_NR_\")\n",
        "    type_ = name[index + 1] + name[index + 2]\n",
        "    index += 4\n",
        "    num = \"\"\n",
        "    while (name[index].isdigit()):\n",
        "        num = num + name[index]\n",
        "        index += 1\n",
        "    num = int(num)\n",
        "    return (type_, num)\n",
        "\n",
        "def get_true_classifier(data):\n",
        "    arr = []\n",
        "    for _, i in data:\n",
        "        tp, num = parse_filename(dataset.get_filename(i))\n",
        "        if (tp == \"NR\"):\n",
        "            arr.append(1)\n",
        "        else:\n",
        "            arr.append(0)\n",
        "    return np.array(arr)\n",
        "\n",
        "def get_result_classifier(model, data):\n",
        "    arr = []\n",
        "    for X, i in data:\n",
        "        predicted = model(X.view(1, 1, image_size, image_size).cuda())\n",
        "        arr.append(predicted.detach().view(2).argmax().item())\n",
        "    return np.array(arr)\n",
        "\n",
        "def get_result_proba(model, data):\n",
        "    arr = []\n",
        "    for X, i in data:\n",
        "        predicted = model(X.view(1, 1, image_size, image_size).cuda())\n",
        "        arr.append(predicted.detach().view(2)[1].item() - predicted.detach().view(2)[0].item())\n",
        "    return np.array(arr)"
      ],
      "execution_count": null,
      "outputs": []
    },
    {
      "cell_type": "code",
      "metadata": {
        "id": "pz9UTREn9uNJ"
      },
      "source": [
        "def roc_auc_score_(model, validation_data):\n",
        "    return roc_auc_score(get_true_classifier(validation_data), get_result_proba(model, validation_data))\n",
        "\n",
        "def accuracy_score_(model, validation_data):\n",
        "    return accuracy_score(get_true_classifier(validation_data), get_result_classifier(model, validation_data))"
      ],
      "execution_count": null,
      "outputs": []
    },
    {
      "cell_type": "code",
      "metadata": {
        "id": "yNR1R9NDtVuI"
      },
      "source": [
        "def kev_transform(kev_val):\n",
        "    # return kev_val / 30\n",
        "    if kev_val == 1:\n",
        "        return 0\n",
        "    if kev_val == 3:\n",
        "        return 1\n",
        "        # return (1 / 12) * 1 + (1 / 6) * 1\n",
        "    if kev_val == 6:\n",
        "        return 2\n",
        "        # return (1 / 12) * 1 + (1 / 6) * 2\n",
        "    if kev_val == 10:\n",
        "        return 3\n",
        "        # return (1 / 12) * 1 + (1 / 6) * 3\n",
        "    if kev_val == 20:\n",
        "        return 4\n",
        "        # return (1 / 12) * 1 + (1 / 6) * 4\n",
        "    if kev_val == 30:\n",
        "        return 5\n",
        "        # return (1 / 12) * 1 + (1 / 6) * 5\n",
        "\n",
        "def kev_inverse_transform(value):\n",
        "    values = [1, 3, 6, 10, 20, 30]\n",
        "    return values[value]\n",
        "    # return value * 30\n",
        "    # if value < (1 / 6) * 1:\n",
        "    #     return 1\n",
        "    # if value < (1 / 6) * 2:\n",
        "    #     return 3\n",
        "    # if value < (1 / 6) * 3:\n",
        "    #     return 6\n",
        "    # if value < (1 / 6) * 4:\n",
        "    #     return 10\n",
        "    # if value < (1 / 6) * 5:\n",
        "    #     return 20\n",
        "    return 30"
      ],
      "execution_count": null,
      "outputs": []
    },
    {
      "cell_type": "code",
      "metadata": {
        "id": "Jv7st2m1UJ2Y"
      },
      "source": [
        "def get_true_regression(data):\n",
        "    arr = []\n",
        "    for _, i in data:\n",
        "        tp, num = parse_filename(dataset.get_filename(i))\n",
        "        arr.append(num)\n",
        "    return np.array(arr)"
      ],
      "execution_count": null,
      "outputs": []
    },
    {
      "cell_type": "code",
      "metadata": {
        "id": "3N-KA18Zco7X"
      },
      "source": [
        "def get_predicted_regression(model, data):\n",
        "    arr = []\n",
        "    for X, i in data:\n",
        "        num = model(X.view(1, 1, image_size, image_size).cuda()).detach().view(6).argmax().item()\n",
        "        # print(model(X.view(1, 1, 300, 300).cuda()).detach())\n",
        "        arr.append(kev_inverse_transform(num))\n",
        "    return np.array(arr)"
      ],
      "execution_count": null,
      "outputs": []
    },
    {
      "cell_type": "code",
      "metadata": {
        "id": "bD6XFZv3Oz3y"
      },
      "source": [
        "def mae(model, validation_data):\n",
        "    return mean_absolute_error(get_true_regression(validation_data), get_predicted_regression(model, validation_data))"
      ],
      "execution_count": null,
      "outputs": []
    },
    {
      "cell_type": "code",
      "metadata": {
        "id": "2Oui8Vjkm3NR"
      },
      "source": [
        "def train_model(model, train_data):\n",
        "    raise NotImplementedError()"
      ],
      "execution_count": null,
      "outputs": []
    },
    {
      "cell_type": "code",
      "metadata": {
        "id": "nC_Zm6rynivv"
      },
      "source": [
        "def predict(model, data):\n",
        "    raise NotImplementedError()"
      ],
      "execution_count": null,
      "outputs": []
    },
    {
      "cell_type": "markdown",
      "metadata": {
        "id": "Bg1Q74aoVXwB"
      },
      "source": [
        "\n",
        "\n",
        "---\n",
        "\n",
        "## Classification"
      ]
    },
    {
      "cell_type": "code",
      "metadata": {
        "id": "MFSSs4EnVlFx"
      },
      "source": [
        "def get_classes(y):\n",
        "    classes = np.zeros(len(y))\n",
        "    for i in range(len(y)):\n",
        "        if parse_filename(dataset.get_filename(y[i]))[0] == 'NR':\n",
        "            classes[i] = 1\n",
        "    return torch.tensor(classes, dtype=torch.long)"
      ],
      "execution_count": null,
      "outputs": []
    },
    {
      "cell_type": "code",
      "metadata": {
        "id": "7nXErOJE9uJm"
      },
      "source": [
        "Baseline_model = nn.Sequential(\n",
        "    nn.Conv2d(in_channels=1, out_channels=32, kernel_size=(3, 3), padding=1, padding_mode='reflect'),\n",
        "    nn.SiLU(),\n",
        "    nn.Dropout(p=0.1),\n",
        "    nn.Conv2d(in_channels=32, out_channels=64, kernel_size=(3, 3), padding=1, padding_mode='reflect'),\n",
        "    nn.SiLU(),\n",
        "    nn.Conv2d(in_channels=64, out_channels=16, kernel_size=(3, 3), padding=1, padding_mode='reflect'),\n",
        "    nn.SiLU(),\n",
        "    nn.Conv2d(in_channels=16, out_channels=16, kernel_size=(3, 3), padding=1, padding_mode='reflect'),\n",
        "    nn.SiLU(),\n",
        "    nn.Conv2d(in_channels=16, out_channels=2, kernel_size=(256, 256), padding=0, padding_mode='reflect'),\n",
        "    nn.LogSoftmax(dim=1)\n",
        "    ).cuda()"
      ],
      "execution_count": null,
      "outputs": []
    },
    {
      "cell_type": "code",
      "metadata": {
        "id": "PvPsv3d79uGy"
      },
      "source": [
        "optimizer = torch.optim.Adam(Baseline_model.parameters(), lr=0.001)\n",
        "criterion = nn.NLLLoss()"
      ],
      "execution_count": null,
      "outputs": []
    },
    {
      "cell_type": "code",
      "metadata": {
        "colab": {
          "base_uri": "https://localhost:8080/"
        },
        "id": "2kNb_l45ZAtZ",
        "outputId": "0817309d-fc37-4bce-9782-10e5ed2c1d2e"
      },
      "source": [
        "for epoch in range(17):\n",
        "    losses = []\n",
        "    for X, y in tqdm(loader):\n",
        "        # get_classes(y)\n",
        "        # break\n",
        "        optimizer.zero_grad()\n",
        "        # print(X.shape)\n",
        "        y_pred = Baseline_model(X.cuda())\n",
        "        y_true = get_classes(y).cuda()\n",
        "        loss = criterion(y_pred.view(-1, 2), y_true)\n",
        "        # print(get_classes(y))\n",
        "        loss.backward()\n",
        "        losses.append(loss.item())\n",
        "        optimizer.step()\n",
        "\n",
        "        X = X.detach().cpu()\n",
        "        y_pred = y_pred.detach().cpu()\n",
        "        y_true = y_true.detach().cpu()\n",
        "        loss = loss.detach().cpu()\n",
        "        torch.cuda.empty_cache()\n",
        "        # ну вроде нормас\n",
        "    if epoch % 1 == 0:\n",
        "        # print('epoch:', epoch, '| accuracy score:', accuracy_score_(Baseline_model, dataset_test), '| auc-roc:', roc_auc_score_(Baseline_model, dataset_test))\n",
        "        print('epoch:', epoch)\n",
        "    # if epoch == 0:\n",
        "    #     print('epoch:', epoch, '| accuracy score:', accuracy_score_(Baseline_model, dataset_val), '| auc-roc:', roc_auc_score_(Baseline_model, dataset_val))"
      ],
      "execution_count": null,
      "outputs": [
        {
          "output_type": "stream",
          "text": [
            "100%|████████████████████████████████████████████████████████████████████████████████| 838/838 [04:16<00:00,  3.27it/s]\n",
            "  0%|                                                                                          | 0/838 [00:00<?, ?it/s]"
          ],
          "name": "stderr"
        },
        {
          "output_type": "stream",
          "text": [
            "epoch: 0\n"
          ],
          "name": "stdout"
        },
        {
          "output_type": "stream",
          "text": [
            "100%|████████████████████████████████████████████████████████████████████████████████| 838/838 [04:06<00:00,  3.39it/s]\n",
            "  0%|                                                                                          | 0/838 [00:00<?, ?it/s]"
          ],
          "name": "stderr"
        },
        {
          "output_type": "stream",
          "text": [
            "epoch: 1\n"
          ],
          "name": "stdout"
        },
        {
          "output_type": "stream",
          "text": [
            "100%|████████████████████████████████████████████████████████████████████████████████| 838/838 [04:03<00:00,  3.44it/s]\n",
            "  0%|                                                                                          | 0/838 [00:00<?, ?it/s]"
          ],
          "name": "stderr"
        },
        {
          "output_type": "stream",
          "text": [
            "epoch: 2\n"
          ],
          "name": "stdout"
        },
        {
          "output_type": "stream",
          "text": [
            "100%|████████████████████████████████████████████████████████████████████████████████| 838/838 [04:03<00:00,  3.45it/s]\n",
            "  0%|                                                                                          | 0/838 [00:00<?, ?it/s]"
          ],
          "name": "stderr"
        },
        {
          "output_type": "stream",
          "text": [
            "epoch: 3\n"
          ],
          "name": "stdout"
        },
        {
          "output_type": "stream",
          "text": [
            "100%|████████████████████████████████████████████████████████████████████████████████| 838/838 [04:02<00:00,  3.45it/s]\n",
            "  0%|                                                                                          | 0/838 [00:00<?, ?it/s]"
          ],
          "name": "stderr"
        },
        {
          "output_type": "stream",
          "text": [
            "epoch: 4\n"
          ],
          "name": "stdout"
        },
        {
          "output_type": "stream",
          "text": [
            "100%|████████████████████████████████████████████████████████████████████████████████| 838/838 [04:01<00:00,  3.47it/s]\n",
            "  0%|                                                                                          | 0/838 [00:00<?, ?it/s]"
          ],
          "name": "stderr"
        },
        {
          "output_type": "stream",
          "text": [
            "epoch: 5\n"
          ],
          "name": "stdout"
        },
        {
          "output_type": "stream",
          "text": [
            "100%|████████████████████████████████████████████████████████████████████████████████| 838/838 [04:01<00:00,  3.47it/s]\n",
            "  0%|                                                                                          | 0/838 [00:00<?, ?it/s]"
          ],
          "name": "stderr"
        },
        {
          "output_type": "stream",
          "text": [
            "epoch: 6\n"
          ],
          "name": "stdout"
        },
        {
          "output_type": "stream",
          "text": [
            "100%|████████████████████████████████████████████████████████████████████████████████| 838/838 [04:01<00:00,  3.47it/s]\n",
            "  0%|                                                                                          | 0/838 [00:00<?, ?it/s]"
          ],
          "name": "stderr"
        },
        {
          "output_type": "stream",
          "text": [
            "epoch: 7\n"
          ],
          "name": "stdout"
        },
        {
          "output_type": "stream",
          "text": [
            "100%|████████████████████████████████████████████████████████████████████████████████| 838/838 [04:01<00:00,  3.47it/s]\n",
            "  0%|                                                                                          | 0/838 [00:00<?, ?it/s]"
          ],
          "name": "stderr"
        },
        {
          "output_type": "stream",
          "text": [
            "epoch: 8\n"
          ],
          "name": "stdout"
        },
        {
          "output_type": "stream",
          "text": [
            "100%|████████████████████████████████████████████████████████████████████████████████| 838/838 [04:01<00:00,  3.47it/s]\n",
            "  0%|                                                                                          | 0/838 [00:00<?, ?it/s]"
          ],
          "name": "stderr"
        },
        {
          "output_type": "stream",
          "text": [
            "epoch: 9\n"
          ],
          "name": "stdout"
        },
        {
          "output_type": "stream",
          "text": [
            "100%|████████████████████████████████████████████████████████████████████████████████| 838/838 [04:01<00:00,  3.47it/s]\n",
            "  0%|                                                                                          | 0/838 [00:00<?, ?it/s]"
          ],
          "name": "stderr"
        },
        {
          "output_type": "stream",
          "text": [
            "epoch: 10\n"
          ],
          "name": "stdout"
        },
        {
          "output_type": "stream",
          "text": [
            "100%|████████████████████████████████████████████████████████████████████████████████| 838/838 [04:00<00:00,  3.48it/s]\n",
            "  0%|                                                                                          | 0/838 [00:00<?, ?it/s]"
          ],
          "name": "stderr"
        },
        {
          "output_type": "stream",
          "text": [
            "epoch: 11\n"
          ],
          "name": "stdout"
        },
        {
          "output_type": "stream",
          "text": [
            "100%|████████████████████████████████████████████████████████████████████████████████| 838/838 [04:00<00:00,  3.48it/s]\n",
            "  0%|                                                                                          | 0/838 [00:00<?, ?it/s]"
          ],
          "name": "stderr"
        },
        {
          "output_type": "stream",
          "text": [
            "epoch: 12\n"
          ],
          "name": "stdout"
        },
        {
          "output_type": "stream",
          "text": [
            "100%|████████████████████████████████████████████████████████████████████████████████| 838/838 [04:00<00:00,  3.48it/s]\n",
            "  0%|                                                                                          | 0/838 [00:00<?, ?it/s]"
          ],
          "name": "stderr"
        },
        {
          "output_type": "stream",
          "text": [
            "epoch: 13\n"
          ],
          "name": "stdout"
        },
        {
          "output_type": "stream",
          "text": [
            "100%|████████████████████████████████████████████████████████████████████████████████| 838/838 [04:00<00:00,  3.48it/s]\n",
            "  0%|                                                                                          | 0/838 [00:00<?, ?it/s]"
          ],
          "name": "stderr"
        },
        {
          "output_type": "stream",
          "text": [
            "epoch: 14\n"
          ],
          "name": "stdout"
        },
        {
          "output_type": "stream",
          "text": [
            "100%|████████████████████████████████████████████████████████████████████████████████| 838/838 [04:00<00:00,  3.48it/s]\n",
            "  0%|                                                                                          | 0/838 [00:00<?, ?it/s]"
          ],
          "name": "stderr"
        },
        {
          "output_type": "stream",
          "text": [
            "epoch: 15\n"
          ],
          "name": "stdout"
        },
        {
          "output_type": "stream",
          "text": [
            "100%|████████████████████████████████████████████████████████████████████████████████| 838/838 [04:00<00:00,  3.49it/s]"
          ],
          "name": "stderr"
        },
        {
          "output_type": "stream",
          "text": [
            "epoch: 16\n"
          ],
          "name": "stdout"
        },
        {
          "output_type": "stream",
          "text": [
            "\n"
          ],
          "name": "stderr"
        }
      ]
    },
    {
      "cell_type": "code",
      "metadata": {
        "id": "NbR4q5DWI1mp"
      },
      "source": [
        "torch.save(Baseline_model.state_dict(), 'C:\\\\Users\\\\Timofey\\\\class_idao_2.pth') # <-- save model"
      ],
      "execution_count": null,
      "outputs": []
    },
    {
      "cell_type": "code",
      "metadata": {
        "id": "_9h72eHRIlap"
      },
      "source": [
        ""
      ],
      "execution_count": null,
      "outputs": []
    },
    {
      "cell_type": "code",
      "metadata": {
        "colab": {
          "base_uri": "https://localhost:8080/"
        },
        "id": "WZ0qy9_RpUec",
        "outputId": "29dd8ad7-40cd-4ee1-d658-3f489b032e94"
      },
      "source": [
        "optimizer = torch.optim.Adam(Baseline_model.parameters(), lr=0.001)\n",
        "for epoch in range(10):\n",
        "    losses = []\n",
        "    for X, y in loader:\n",
        "        # get_classes(y)\n",
        "        # break\n",
        "        optimizer.zero_grad()\n",
        "        # print(X.shape)\n",
        "        y_pred = Baseline_model(X.cuda())\n",
        "        y_true = get_classes(y).cuda()\n",
        "        loss = criterion(y_pred.view(-1, 2), y_true)\n",
        "        # print(get_classes(y))\n",
        "        loss.backward()\n",
        "        losses.append(loss.item())\n",
        "        optimizer.step()\n",
        "\n",
        "        X = X.detach().cpu()\n",
        "        y_pred = y_pred.detach().cpu()\n",
        "        y_true = y_true.detach().cpu()\n",
        "        loss = loss.detach().cpu()\n",
        "        torch.cuda.empty_cache()\n",
        "        # ну вроде нормас\n",
        "    if epoch % 3 == 0:\n",
        "        print('epoch:', epoch, '| accuracy score:', accuracy_score_(Baseline_model, dataset_test), '| auc-roc:', roc_auc_score_(Baseline_model, dataset_test))"
      ],
      "execution_count": null,
      "outputs": [
        {
          "output_type": "stream",
          "text": [
            "epoch: 0 | accuracy score: 0.9895600298284862 | auc-roc: 0.9997820139244167\n",
            "epoch: 3 | accuracy score: 0.9947800149142431 | auc-roc: 0.9996641234957849\n",
            "epoch: 6 | accuracy score: 0.9932885906040269 | auc-roc: 0.9983428609560246\n",
            "epoch: 9 | accuracy score: 0.9970171513795675 | auc-roc: 0.998758813977801\n"
          ],
          "name": "stdout"
        }
      ]
    },
    {
      "cell_type": "code",
      "metadata": {
        "colab": {
          "base_uri": "https://localhost:8080/"
        },
        "id": "4oU0t3G39uEP",
        "outputId": "86d350cb-6751-4852-fc61-8f8610a66cd4"
      },
      "source": [
        "for epoch in range(19): # old, no_transforms\n",
        "    losses = []\n",
        "    for X, y in loader:\n",
        "        # get_classes(y)\n",
        "        # break\n",
        "        optimizer.zero_grad()\n",
        "        # print(X.shape)\n",
        "        y_pred = Baseline_model(X.cuda())\n",
        "        y_true = get_classes(y).cuda()\n",
        "        loss = criterion(y_pred.view(-1, 2), y_true)\n",
        "        # print(get_classes(y))\n",
        "        loss.backward()\n",
        "        losses.append(loss.item())\n",
        "        optimizer.step()\n",
        "\n",
        "        X = X.detach().cpu()\n",
        "        y_pred = y_pred.detach().cpu()\n",
        "        y_true = y_true.detach().cpu()\n",
        "        loss = loss.detach().cpu()\n",
        "        torch.cuda.empty_cache()\n",
        "        # ну вроде нормас\n",
        "    if epoch % 3 == 0:\n",
        "        print('epoch:', epoch, '| accuracy score:', accuracy_score_(Baseline_model, dataset_test), '| auc-roc:', roc_auc_score_(Baseline_model, dataset_test))"
      ],
      "execution_count": null,
      "outputs": [
        {
          "output_type": "stream",
          "text": [
            "epoch: 0 | accuracy score: 0.9946751863684771 | auc-roc: 0.9993101570300444\n",
            "epoch: 3 | accuracy score: 0.9946751863684771 | auc-roc: 0.9992239266588001\n",
            "epoch: 6 | accuracy score: 0.9787007454739084 | auc-roc: 0.9990469274757193\n",
            "epoch: 9 | accuracy score: 0.9904153354632588 | auc-roc: 0.9991785422528818\n",
            "epoch: 12 | accuracy score: 0.9882854100106496 | auc-roc: 0.9972406281201779\n",
            "epoch: 15 | accuracy score: 0.9946751863684771 | auc-roc: 0.9988200054461287\n",
            "epoch: 18 | accuracy score: 0.9925452609158679 | auc-roc: 0.9977897794317873\n"
          ],
          "name": "stdout"
        }
      ]
    },
    {
      "cell_type": "code",
      "metadata": {
        "colab": {
          "base_uri": "https://localhost:8080/"
        },
        "id": "XYGU-AnRFJup",
        "outputId": "f5b60713-be10-4885-d537-c1c944821546"
      },
      "source": [
        "print('epoch:', epoch, '| accuracy score:', accuracy_score_(Baseline_model, dataset_test), '| auc-roc:', roc_auc_score_(Baseline_model, dataset_test))"
      ],
      "execution_count": null,
      "outputs": [
        {
          "output_type": "stream",
          "text": [
            "epoch: 19 | accuracy score: 0.9914802981895634 | auc-roc: 0.9989879277480258\n"
          ],
          "name": "stdout"
        }
      ]
    },
    {
      "cell_type": "code",
      "metadata": {
        "id": "ZDoxo8L-xSY0"
      },
      "source": [
        "optimizer = torch.optim.Adam(Baseline_model.parameters(), lr=0.001)"
      ],
      "execution_count": null,
      "outputs": []
    },
    {
      "cell_type": "code",
      "metadata": {
        "colab": {
          "base_uri": "https://localhost:8080/"
        },
        "id": "a4WNGCmpxSXB",
        "outputId": "cca70024-9bb9-4abf-8e8b-c4431ddfa4f4"
      },
      "source": [
        "for epoch in range(1):\n",
        "    losses = []\n",
        "    for X, y in loader:\n",
        "        X = X.cuda()\n",
        "        # get_classes(y)\n",
        "        # break\n",
        "        optimizer.zero_grad()\n",
        "        # print(X.shape)\n",
        "        y_pred = Baseline_model(X)\n",
        "        y_true = get_classes(y)\n",
        "        y_true = y_true.cuda()\n",
        "        loss = criterion(y_pred.view(-1, 2), y_true)\n",
        "        # print(get_classes(y))\n",
        "        loss.backward()\n",
        "        losses.append(loss.item())\n",
        "        optimizer.step()\n",
        "        # ну вроде нормас\n",
        "    \n",
        "    print('epoch:', epoch, '| accuracy score:', accuracy_score_(Baseline_model, dataset_test), '| auc-roc:', roc_auc_score_(Baseline_model, dataset_test))"
      ],
      "execution_count": null,
      "outputs": [
        {
          "output_type": "stream",
          "text": [
            "epoch: 0 | accuracy score: 0.7242921013412816 | auc-roc: 0.7913668424052436\n"
          ],
          "name": "stdout"
        }
      ]
    },
    {
      "cell_type": "markdown",
      "metadata": {
        "id": "bznK8DqpVk5Q"
      },
      "source": [
        "## Regression"
      ]
    },
    {
      "cell_type": "code",
      "metadata": {
        "id": "kfP-YgkjZV7X"
      },
      "source": [
        "def get_true_kev(y):\n",
        "    arr = []\n",
        "    for i in y:\n",
        "        tp, num = parse_filename(dataset.get_filename(i))\n",
        "        arr.append(kev_transform(num))\n",
        "    # print(arr)\n",
        "    return torch.tensor(np.array(arr), dtype=torch.float).view(len(y), 1)"
      ],
      "execution_count": null,
      "outputs": []
    },
    {
      "cell_type": "code",
      "metadata": {
        "id": "H8ty_KrjxSMo"
      },
      "source": [
        "Baseline_model_regression = nn.Sequential(\n",
        "    nn.Conv2d(in_channels=1, out_channels=32, kernel_size=(3, 3), padding=1, padding_mode='reflect'),\n",
        "    nn.SiLU(),\n",
        "    nn.Dropout(p=0.1),\n",
        "    nn.Conv2d(in_channels=32, out_channels=16, kernel_size=(3, 3), padding=1, padding_mode='reflect'),\n",
        "    nn.SiLU(),\n",
        "    nn.Conv2d(in_channels=16, out_channels=16, kernel_size=(3, 3), padding=1, padding_mode='reflect'),\n",
        "    nn.SiLU(),\n",
        "    nn.Conv2d(in_channels=16, out_channels=1, kernel_size=(300, 300), padding=0, padding_mode='reflect'),\n",
        "    # nn.Sigmoid(),\n",
        "    ).cuda()"
      ],
      "execution_count": null,
      "outputs": []
    },
    {
      "cell_type": "code",
      "metadata": {
        "id": "SVmYRFIgX7Xx"
      },
      "source": [
        "optimizer = torch.optim.Adam(Baseline_model_regression.parameters(), lr=0.001)\n",
        "criterion = nn.MSELoss()"
      ],
      "execution_count": null,
      "outputs": []
    },
    {
      "cell_type": "code",
      "metadata": {
        "colab": {
          "base_uri": "https://localhost:8080/",
          "height": 262
        },
        "id": "vDpEen1JYBZZ",
        "outputId": "47a6591d-fa24-460c-d79a-09b0e4373b83"
      },
      "source": [
        "for epoch in range(10):\n",
        "    losses = []\n",
        "    for X, y in loader:\n",
        "        optimizer.zero_grad()\n",
        "        y_pred = Baseline_model_regression(X.cuda())\n",
        "        loss = criterion(y_pred.view(-1, 1), get_true_kev(y).cuda())\n",
        "        # break\n",
        "        losses.append(loss.item())\n",
        "        loss.backward()\n",
        "        optimizer.step()\n",
        "    # print(epoch)\n",
        "    if epoch % 3 == 0:\n",
        "        print('epoch:', epoch, '| mae:', mae(Baseline_model_regression, dataset_test), '| mean_mse_losses:', np.mean(np.array(losses)), '| batches:', len(losses))"
      ],
      "execution_count": null,
      "outputs": [
        {
          "output_type": "stream",
          "text": [
            "epoch: 0 | mae: 7.996095545295456 | mean_mse_losses: 4.092220810000543 | batches: 378\n",
            "epoch: 3 | mae: 4.868535662090752 | mean_mse_losses: 0.03300221115055065 | batches: 378\n"
          ],
          "name": "stdout"
        },
        {
          "output_type": "error",
          "ename": "KeyboardInterrupt",
          "evalue": "ignored",
          "traceback": [
            "\u001b[1;31m---------------------------------------------------------------------------\u001b[0m",
            "\u001b[1;31mKeyboardInterrupt\u001b[0m                         Traceback (most recent call last)",
            "\u001b[1;32m<ipython-input-14-6c655ffec091>\u001b[0m in \u001b[0;36m<module>\u001b[1;34m\u001b[0m\n\u001b[0;32m      3\u001b[0m     \u001b[1;32mfor\u001b[0m \u001b[0mX\u001b[0m\u001b[1;33m,\u001b[0m \u001b[0my\u001b[0m \u001b[1;32min\u001b[0m \u001b[0mloader\u001b[0m\u001b[1;33m:\u001b[0m\u001b[1;33m\u001b[0m\u001b[1;33m\u001b[0m\u001b[0m\n\u001b[0;32m      4\u001b[0m         \u001b[0moptimizer\u001b[0m\u001b[1;33m.\u001b[0m\u001b[0mzero_grad\u001b[0m\u001b[1;33m(\u001b[0m\u001b[1;33m)\u001b[0m\u001b[1;33m\u001b[0m\u001b[1;33m\u001b[0m\u001b[0m\n\u001b[1;32m----> 5\u001b[1;33m         \u001b[0my_pred\u001b[0m \u001b[1;33m=\u001b[0m \u001b[0mBaseline_model_regression\u001b[0m\u001b[1;33m(\u001b[0m\u001b[0mX\u001b[0m\u001b[1;33m.\u001b[0m\u001b[0mcuda\u001b[0m\u001b[1;33m(\u001b[0m\u001b[1;33m)\u001b[0m\u001b[1;33m)\u001b[0m\u001b[1;33m\u001b[0m\u001b[1;33m\u001b[0m\u001b[0m\n\u001b[0m\u001b[0;32m      6\u001b[0m         \u001b[0mloss\u001b[0m \u001b[1;33m=\u001b[0m \u001b[0mcriterion\u001b[0m\u001b[1;33m(\u001b[0m\u001b[0my_pred\u001b[0m\u001b[1;33m.\u001b[0m\u001b[0mview\u001b[0m\u001b[1;33m(\u001b[0m\u001b[1;33m-\u001b[0m\u001b[1;36m1\u001b[0m\u001b[1;33m,\u001b[0m \u001b[1;36m1\u001b[0m\u001b[1;33m)\u001b[0m\u001b[1;33m,\u001b[0m \u001b[0mget_true_kev\u001b[0m\u001b[1;33m(\u001b[0m\u001b[0my\u001b[0m\u001b[1;33m)\u001b[0m\u001b[1;33m.\u001b[0m\u001b[0mcuda\u001b[0m\u001b[1;33m(\u001b[0m\u001b[1;33m)\u001b[0m\u001b[1;33m)\u001b[0m\u001b[1;33m\u001b[0m\u001b[1;33m\u001b[0m\u001b[0m\n\u001b[0;32m      7\u001b[0m         \u001b[1;31m# break\u001b[0m\u001b[1;33m\u001b[0m\u001b[1;33m\u001b[0m\u001b[1;33m\u001b[0m\u001b[0m\n",
            "\u001b[1;31mKeyboardInterrupt\u001b[0m: "
          ]
        }
      ]
    },
    {
      "cell_type": "code",
      "metadata": {
        "colab": {
          "base_uri": "https://localhost:8080/"
        },
        "id": "fl7sONuxiWEx",
        "outputId": "0b907087-22ca-4aa4-e4fb-5bb1cfc41288"
      },
      "source": [
        "mae(Baseline_model_regression, dataset_test)"
      ],
      "execution_count": null,
      "outputs": [
        {
          "output_type": "execute_result",
          "data": {
            "text/plain": [
              "11.662317701746133"
            ]
          },
          "metadata": {
            "tags": []
          },
          "execution_count": 13
        }
      ]
    },
    {
      "cell_type": "code",
      "metadata": {
        "id": "EbMeXWYKiRY2"
      },
      "source": [
        "class Regression_model(nn.Module):\n",
        "    def __init__(self):\n",
        "        super().__init__()\n",
        "        \n",
        "        self.encoder = nn.Sequential(\n",
        "            nn.Conv2d(1, 64, (3, 3), padding=1, padding_mode='reflect'),\n",
        "            nn.SiLU(), \n",
        "            nn.Conv2d(64, 64, (3, 3), padding=1, padding_mode='reflect'),\n",
        "            nn.SiLU(), \n",
        "            nn.MaxPool2d((2, 2), stride=(2, 2)), # (*, 64, 128, 128)\n",
        "            nn.Conv2d(64, 128, (3, 3), padding=1, padding_mode='reflect'),\n",
        "            nn.SiLU(),\n",
        "            nn.AvgPool2d((2, 2), stride=(2, 2)), # (*, 128, 64, 64)\n",
        "            nn.Conv2d(128, 128, (3, 3), padding=1, padding_mode='reflect'),\n",
        "            nn.SiLU(),\n",
        "            nn.BatchNorm2d(128),\n",
        "            nn.Conv2d(128, 256, (5, 5), padding=2, padding_mode='reflect'), \n",
        "            nn.SiLU(),\n",
        "            nn.Conv2d(256, 256, (5, 5), padding=2, padding_mode='reflect'), \n",
        "            nn.SiLU(),\n",
        "            nn.MaxPool2d((2, 2), stride=(2, 2)), # (*, 256, 32, 32)\n",
        "            nn.Conv2d(256, 256, (5, 5), padding=2, padding_mode='reflect'), \n",
        "            nn.SiLU(),\n",
        "            nn.BatchNorm2d(256),\n",
        "            nn.Conv2d(256, 256, (5, 5), padding=2, padding_mode='reflect'), \n",
        "            nn.SiLU(),\n",
        "            nn.Conv2d(256, 256, (5, 5), padding=2, padding_mode='reflect'), \n",
        "            nn.SiLU(),\n",
        "            nn.BatchNorm2d(256),\n",
        "            nn.Conv2d(256, 256, (5, 5), padding=2, padding_mode='reflect'), \n",
        "            nn.SiLU(),\n",
        "            nn.BatchNorm2d(256),\n",
        "            nn.Conv2d(256, 256, (3, 3), padding=1, padding_mode='reflect'), \n",
        "            nn.SiLU(),\n",
        "            nn.MaxPool2d((2, 2), stride=(2, 2)), # (*, 256, 16, 16)\n",
        "            nn.Conv2d(256, 256, (3, 3), padding=1, padding_mode='reflect'), \n",
        "            nn.SiLU(),\n",
        "            nn.MaxPool2d((2, 2), stride=(2, 2)), # (*, 256, 8, 8)\n",
        "            nn.Conv2d(256, 256, (3, 3), padding=1, padding_mode='reflect'), \n",
        "            nn.SiLU(),\n",
        "            nn.MaxPool2d((2, 2), stride=(2, 2)), # (*, 256, 4, 4)\n",
        "            nn.Conv2d(256, 128, (3, 3), padding=1, padding_mode='reflect'), \n",
        "            nn.SiLU(),\n",
        "            nn.Conv2d(128, 64, (3, 3), padding=1, padding_mode='reflect'), \n",
        "            nn.SiLU(),\n",
        "            # nn.MaxPool2d((2, 2), stride=(2, 2)), # (*, 64, 2, 2)\n",
        "            nn.Conv2d(64, 64, (3, 3), padding=1, padding_mode='reflect'), \n",
        "            nn.SiLU(),\n",
        "            nn.Conv2d(64, 32, (3, 3), padding=1, padding_mode='reflect'), \n",
        "            nn.SiLU(),\n",
        "            nn.Conv2d(32, 1, (4, 4), padding=0, padding_mode='reflect'), \n",
        "            nn.SiLU(),\n",
        "            # nn.MaxPool2d((2, 2), stride=(2, 2)), # (*, 4, 1, 1)\n",
        "            nn.Sigmoid(),\n",
        "        )\n",
        "    \n",
        "    def forward(self, x):\n",
        "        h = self.encoder(x)\n",
        "        # h = torch.cat((h, x), 1)\n",
        "        return h"
      ],
      "execution_count": null,
      "outputs": []
    },
    {
      "cell_type": "code",
      "metadata": {
        "id": "-Vp9jprIjue5"
      },
      "source": [
        "def train_model(epochs=3, lr=0.0001, verbose=True):\n",
        "    # Here we train our model\n",
        "    optimizer = torch.optim.Adam(model.parameters(), lr=lr) # can change lr for better score - learning rate in gradient descent. Maybe can change optimizer, but Adam is good\n",
        "    criterion = nn.L1Loss() # can change loss criterion\n",
        "    if verbose:\n",
        "        print('Training model...',\n",
        "              'Optimizer: ' + str(optimizer), \n",
        "              'Criterion: ' + str(criterion),\n",
        "              'epochs: ' + str(epochs),\n",
        "              sep='\\n'\n",
        "              )\n",
        "\n",
        "    for epoch in range(epochs): # can change number of epochs - the more the better. But one epoch = ~10 minutes\n",
        "        losses = []\n",
        "        for X, y in loader:\n",
        "            optimizer.zero_grad()\n",
        "            y_pred = model(X.cuda())\n",
        "            loss = criterion(y_pred.view(-1, 1), get_true_kev(y).cuda())\n",
        "            losses.append(loss.item())\n",
        "            loss.backward()\n",
        "            optimizer.step()\n",
        "        print('epoch:', epoch + 1, 'of', epochs, '\\nmean_loss:', np.mean(losses))\n",
        "        plt.plot(losses)\n",
        "        plt.show()\n",
        "    \n",
        "    if verbose:\n",
        "        print('Training finished')"
      ],
      "execution_count": null,
      "outputs": []
    },
    {
      "cell_type": "code",
      "metadata": {
        "colab": {
          "base_uri": "https://localhost:8080/"
        },
        "id": "cwNZ_Swxmsv6",
        "outputId": "a9998595-d59e-4e87-c8b2-cef6b6e6bf21"
      },
      "source": [
        "for lr in [0.01, 0.001, 0.0005, 0.000075, 0.00001]:\n",
        "    model = Regression_model().cuda()\n",
        "    train_model(epochs=1, lr=lr)\n",
        "    # mae(model, dataset_test)"
      ],
      "execution_count": null,
      "outputs": [
        {
          "output_type": "stream",
          "text": [
            "Training model...\n",
            "Optimizer: Adam (\n",
            "Parameter Group 0\n",
            "    amsgrad: False\n",
            "    betas: (0.9, 0.999)\n",
            "    eps: 1e-08\n",
            "    lr: 0.01\n",
            "    weight_decay: 0\n",
            ")\n",
            "Criterion: L1Loss()\n",
            "epochs: 1\n",
            "epoch: 1 of 1 \n",
            "mean_loss: 0.6109835127574708\n"
          ],
          "name": "stdout"
        },
        {
          "output_type": "display_data",
          "data": {
            "text/plain": [
              "<Figure size 432x288 with 1 Axes>"
            ],
            "image/png": "[encoded data removed]"
          },
          "metadata": {
            "tags": [],
            "needs_background": "light"
          }
        },
        {
          "output_type": "stream",
          "text": [
            "Training finished\n",
            "Training model...\n",
            "Optimizer: Adam (\n",
            "Parameter Group 0\n",
            "    amsgrad: False\n",
            "    betas: (0.9, 0.999)\n",
            "    eps: 1e-08\n",
            "    lr: 0.001\n",
            "    weight_decay: 0\n",
            ")\n",
            "Criterion: L1Loss()\n",
            "epochs: 1\n",
            "epoch: 1 of 1 \n",
            "mean_loss: 0.3506219962116817\n"
          ],
          "name": "stdout"
        },
        {
          "output_type": "display_data",
          "data": {
            "text/plain": [
              "<Figure size 432x288 with 1 Axes>"
            ],
            "image/png": "[encoded data removed]"
          },
          "metadata": {
            "tags": [],
            "needs_background": "light"
          }
        },
        {
          "output_type": "stream",
          "text": [
            "Training finished\n",
            "Training model...\n",
            "Optimizer: Adam (\n",
            "Parameter Group 0\n",
            "    amsgrad: False\n",
            "    betas: (0.9, 0.999)\n",
            "    eps: 1e-08\n",
            "    lr: 0.0005\n",
            "    weight_decay: 0\n",
            ")\n",
            "Criterion: L1Loss()\n",
            "epochs: 1\n",
            "epoch: 1 of 1 \n",
            "mean_loss: 0.22646747709229104\n"
          ],
          "name": "stdout"
        },
        {
          "output_type": "display_data",
          "data": {
            "text/plain": [
              "<Figure size 432x288 with 1 Axes>"
            ],
            "image/png": "[encoded data removed]"
          },
          "metadata": {
            "tags": [],
            "needs_background": "light"
          }
        },
        {
          "output_type": "stream",
          "text": [
            "Training finished\n",
            "Training model...\n",
            "Optimizer: Adam (\n",
            "Parameter Group 0\n",
            "    amsgrad: False\n",
            "    betas: (0.9, 0.999)\n",
            "    eps: 1e-08\n",
            "    lr: 7.5e-05\n",
            "    weight_decay: 0\n",
            ")\n",
            "Criterion: L1Loss()\n",
            "epochs: 1\n",
            "epoch: 1 of 1 \n",
            "mean_loss: 0.20196394245846924\n"
          ],
          "name": "stdout"
        },
        {
          "output_type": "display_data",
          "data": {
            "text/plain": [
              "<Figure size 432x288 with 1 Axes>"
            ],
            "image/png": "[encoded data removed]"
          },
          "metadata": {
            "tags": [],
            "needs_background": "light"
          }
        },
        {
          "output_type": "stream",
          "text": [
            "Training finished\n",
            "Training model...\n",
            "Optimizer: Adam (\n",
            "Parameter Group 0\n",
            "    amsgrad: False\n",
            "    betas: (0.9, 0.999)\n",
            "    eps: 1e-08\n",
            "    lr: 1e-05\n",
            "    weight_decay: 0\n",
            ")\n",
            "Criterion: L1Loss()\n",
            "epochs: 1\n",
            "epoch: 1 of 1 \n",
            "mean_loss: 0.20302360546833795\n"
          ],
          "name": "stdout"
        },
        {
          "output_type": "display_data",
          "data": {
            "text/plain": [
              "<Figure size 432x288 with 1 Axes>"
            ],
            "image/png": "[encoded data removed]"
          },
          "metadata": {
            "tags": [],
            "needs_background": "light"
          }
        },
        {
          "output_type": "stream",
          "text": [
            "Training finished\n"
          ],
          "name": "stdout"
        }
      ]
    },
    {
      "cell_type": "markdown",
      "metadata": {
        "id": "X7QgyRMbpdol"
      },
      "source": [
        "## Regression -> Classification"
      ]
    },
    {
      "cell_type": "code",
      "metadata": {
        "id": "HbQdQh7Oqpyw"
      },
      "source": [
        "def get_true_kev_classes(y):\n",
        "    arr = []\n",
        "    for i in y:\n",
        "        tp, num = parse_filename(dataset.get_filename(i))\n",
        "        arr.append(kev_transform(num))\n",
        "    # print(arr)\n",
        "    return torch.tensor(arr, dtype=torch.long)"
      ],
      "execution_count": null,
      "outputs": []
    },
    {
      "cell_type": "code",
      "metadata": {
        "id": "tGViYCibpjKJ",
        "cellView": "code"
      },
      "source": [
        "#@title Default title text\n",
        "# class Reg_via_Class(nn.Module):\n",
        "#     def __init__(self):\n",
        "#         super().__init__()\n",
        "        \n",
        "#         self.encoder = nn.Sequential(\n",
        "#             nn.Conv2d(1, 64, (3, 3), padding=1, padding_mode='reflect'),\n",
        "#             nn.SiLU(), \n",
        "#             nn.Conv2d(64, 64, (3, 3), padding=1, padding_mode='reflect'),\n",
        "#             nn.SiLU(), \n",
        "#             nn.MaxPool2d((2, 2), stride=(2, 2)), # (*, 64, 128, 128)\n",
        "#             nn.Conv2d(64, 128, (3, 3), padding=1, padding_mode='reflect'),\n",
        "#             nn.SiLU(),\n",
        "#             nn.AvgPool2d((2, 2), stride=(2, 2)), # (*, 128, 64, 64)\n",
        "#             nn.Conv2d(128, 128, (3, 3), padding=1, padding_mode='reflect'),\n",
        "#             nn.SiLU(),\n",
        "#             nn.BatchNorm2d(128),\n",
        "#             nn.Conv2d(128, 256, (5, 5), padding=2, padding_mode='reflect'), \n",
        "#             nn.SiLU(),\n",
        "#             nn.Conv2d(256, 256, (5, 5), padding=2, padding_mode='reflect'), \n",
        "#             nn.SiLU(),\n",
        "#             nn.MaxPool2d((2, 2), stride=(2, 2)), # (*, 256, 32, 32)\n",
        "#             nn.Conv2d(256, 256, (5, 5), padding=2, padding_mode='reflect'), \n",
        "#             nn.SiLU(),\n",
        "#             nn.BatchNorm2d(256),\n",
        "#             nn.Conv2d(256, 256, (5, 5), padding=2, padding_mode='reflect'), \n",
        "#             nn.SiLU(),\n",
        "#             nn.Dropout(0.1),\n",
        "#             nn.Conv2d(256, 256, (5, 5), padding=2, padding_mode='reflect'), \n",
        "#             nn.SiLU(),\n",
        "#             nn.BatchNorm2d(256),\n",
        "#             nn.Conv2d(256, 256, (5, 5), padding=2, padding_mode='reflect'), \n",
        "#             nn.SiLU(),\n",
        "#             nn.BatchNorm2d(256),\n",
        "#             nn.Conv2d(256, 256, (3, 3), padding=1, padding_mode='reflect'), \n",
        "#             nn.SiLU(),\n",
        "#             nn.MaxPool2d((2, 2), stride=(2, 2)), # (*, 256, 16, 16)\n",
        "#             nn.Conv2d(256, 256, (3, 3), padding=1, padding_mode='reflect'), \n",
        "#             nn.SiLU(),\n",
        "#             nn.MaxPool2d((2, 2), stride=(2, 2)), # (*, 256, 8, 8)\n",
        "#             nn.Conv2d(256, 256, (3, 3), padding=1, padding_mode='reflect'), \n",
        "#             nn.SiLU(),\n",
        "#             nn.Dropout(0.1),\n",
        "#             nn.MaxPool2d((2, 2), stride=(2, 2)), # (*, 256, 4, 4)\n",
        "#             nn.Conv2d(256, 128, (3, 3), padding=1, padding_mode='reflect'), \n",
        "#             nn.SiLU(),\n",
        "#             nn.Conv2d(128, 64, (3, 3), padding=1, padding_mode='reflect'), \n",
        "#             nn.SiLU(),\n",
        "#             # nn.MaxPool2d((2, 2), stride=(2, 2)), # (*, 64, 2, 2)\n",
        "#             nn.Conv2d(64, 64, (3, 3), padding=1, padding_mode='reflect'), \n",
        "#             nn.SiLU(),\n",
        "#             nn.Conv2d(64, 32, (3, 3), padding=1, padding_mode='reflect'), \n",
        "#             nn.SiLU(),\n",
        "#             nn.Conv2d(32, 6, (4, 4), padding=0, padding_mode='reflect'),\n",
        "#             # nn.MaxPool2d((2, 2), stride=(2, 2)), # (*, 4, 1, 1)\n",
        "#             nn.LogSoftmax(dim=1),\n",
        "#         )\n",
        "    \n",
        "#     def forward(self, x):\n",
        "#         h = self.encoder(x)\n",
        "#         # h = torch.cat((h, x), 1)\n",
        "#         return h\n",
        "\n",
        "class Reg_via_Class(nn.Module):\n",
        "    def __init__(self):\n",
        "        super().__init__()\n",
        "        \n",
        "        self.encoder = nn.Sequential(\n",
        "            nn.Conv2d(1, 64, (3, 3), padding=1, padding_mode='reflect'),\n",
        "            nn.SiLU(), \n",
        "            nn.Conv2d(64, 64, (3, 3), padding=1, padding_mode='reflect'),\n",
        "            nn.SiLU(), \n",
        "            nn.MaxPool2d((2, 2), stride=(2, 2)), # (*, 64, 128, 128)\n",
        "            nn.Conv2d(64, 128, (3, 3), padding=1, padding_mode='reflect'),\n",
        "            nn.SiLU(),\n",
        "            nn.AvgPool2d((2, 2), stride=(2, 2)), # (*, 128, 64, 64)\n",
        "            nn.Conv2d(128, 128, (3, 3), padding=1, padding_mode='reflect'),\n",
        "            nn.SiLU(),\n",
        "            nn.BatchNorm2d(128),\n",
        "            nn.Conv2d(128, 256, (5, 5), padding=2, padding_mode='reflect'), \n",
        "            nn.SiLU(),\n",
        "            nn.Conv2d(256, 256, (9, 9), padding=4, padding_mode='reflect'), \n",
        "            nn.SiLU(),\n",
        "            nn.MaxPool2d((2, 2), stride=(2, 2)), # (*, 256, 32, 32)\n",
        "            nn.Conv2d(256, 256, (5, 5), padding=2, padding_mode='reflect'), \n",
        "            nn.SiLU(),\n",
        "            nn.BatchNorm2d(256),\n",
        "            nn.Conv2d(256, 256, (5, 5), padding=2, padding_mode='reflect'), \n",
        "            nn.SiLU(),\n",
        "            nn.Dropout(0.1),\n",
        "            nn.Conv2d(256, 256, (9, 9), padding=4, padding_mode='reflect'), \n",
        "            nn.SiLU(),\n",
        "            nn.BatchNorm2d(256),\n",
        "            nn.Conv2d(256, 256, (9, 9), padding=4, padding_mode='reflect'), \n",
        "            nn.SiLU(),\n",
        "            nn.BatchNorm2d(256),\n",
        "            nn.Conv2d(256, 256, (3, 3), padding=1, padding_mode='reflect'), \n",
        "            nn.SiLU(), # start\n",
        "            \n",
        "            nn.BatchNorm2d(256),\n",
        "            nn.Conv2d(256, 256, (9, 9), padding=4, padding_mode='reflect'), \n",
        "            nn.SiLU(),\n",
        "            nn.Dropout(0.1),\n",
        "\n",
        "            nn.MaxPool2d((2, 2), stride=(2, 2)), # (*, 256, 16, 16)\n",
        "            nn.Conv2d(256, 256, (3, 3), padding=1, padding_mode='reflect'), \n",
        "            nn.SiLU(),\n",
        "            nn.MaxPool2d((2, 2), stride=(2, 2)), # (*, 256, 8, 8)\n",
        "            nn.Conv2d(256, 256, (3, 3), padding=1, padding_mode='reflect'), \n",
        "            nn.SiLU(),\n",
        "            nn.Dropout(0.1),\n",
        "            nn.MaxPool2d((2, 2), stride=(2, 2)), # (*, 256, 4, 4)\n",
        "            nn.Conv2d(256, 128, (3, 3), padding=1, padding_mode='reflect'), \n",
        "            nn.SiLU(),\n",
        "            nn.Conv2d(128, 64, (3, 3), padding=1, padding_mode='reflect'), \n",
        "            nn.SiLU(),\n",
        "            # nn.MaxPool2d((2, 2), stride=(2, 2)), # (*, 64, 2, 2)\n",
        "            nn.Conv2d(64, 64, (3, 3), padding=1, padding_mode='reflect'), \n",
        "            nn.SiLU(),\n",
        "            nn.Conv2d(64, 32, (3, 3), padding=1, padding_mode='reflect'), \n",
        "            nn.SiLU(),\n",
        "            nn.Conv2d(32, 6, (4, 4), padding=0, padding_mode='reflect'),\n",
        "            # nn.MaxPool2d((2, 2), stride=(2, 2)), # (*, 4, 1, 1)\n",
        "            nn.LogSoftmax(dim=1),\n",
        "        )\n",
        "    \n",
        "    def forward(self, x):\n",
        "        h = self.encoder(x)\n",
        "        # h = torch.cat((h, x), 1)\n",
        "        return h"
      ],
      "execution_count": null,
      "outputs": []
    },
    {
      "cell_type": "code",
      "metadata": {
        "id": "XEUT77HYp8eR"
      },
      "source": [
        "model = Reg_via_Class().cuda()"
      ],
      "execution_count": null,
      "outputs": []
    },
    {
      "cell_type": "code",
      "metadata": {
        "id": "rvWWgzsZrySl"
      },
      "source": [
        ""
      ],
      "execution_count": null,
      "outputs": []
    },
    {
      "cell_type": "code",
      "metadata": {
        "id": "LYyTyfNDqXnM"
      },
      "source": [
        "def train_reg_via_class(epochs=3, lr=0.00001, verbose=True):\n",
        "    optimizer = torch.optim.Adam(model.parameters(), lr=lr)\n",
        "    criterion = nn.NLLLoss()\n",
        "    if verbose:\n",
        "        print('Training model...',\n",
        "              'Optimizer: ' + str(optimizer), \n",
        "              'Criterion: ' + str(criterion),\n",
        "              'epochs: ' + str(epochs),\n",
        "              sep='\\n'\n",
        "              )\n",
        "    for epoch in range(epochs):\n",
        "        losses = []\n",
        "        for X, y in tqdm(loader):\n",
        "            optimizer.zero_grad()\n",
        "            y_pred = model(X.cuda())\n",
        "            y_true = get_true_kev_classes(y).cuda()\n",
        "            loss = criterion(y_pred.view(-1, 6), y_true)\n",
        "            # print(get_classes(y))\n",
        "            loss.backward()\n",
        "            losses.append(loss.item())\n",
        "            optimizer.step()\n",
        "\n",
        "            X = X.detach().cpu()\n",
        "            y_pred = y_pred.detach().cpu()\n",
        "            y_true = y_true.detach().cpu()\n",
        "            loss = loss.detach().cpu()\n",
        "            torch.cuda.empty_cache()\n",
        "        print('epoch:', epoch + 1, 'of', epochs, '\\nmean_loss:', np.mean(losses), '\\nmae_loss:', mae(model, dataset_test))\n",
        "        plt.plot(losses)\n",
        "        plt.show()\n",
        "    \n",
        "    if verbose:\n",
        "        print('Training finished')"
      ],
      "execution_count": null,
      "outputs": []
    },
    {
      "cell_type": "code",
      "metadata": {
        "colab": {
          "base_uri": "https://localhost:8080/",
          "height": 1000
        },
        "id": "ngidavs7g5y-",
        "outputId": "889ae971-f3cb-4b9f-a7e8-b642fec70d7e"
      },
      "source": [
        "train_reg_via_class(epochs=6, lr=0.00006)\n",
        "train_reg_via_class(epochs=6, lr=0.00004)\n",
        "train_reg_via_class(epochs=6, lr=0.00001)"
      ],
      "execution_count": null,
      "outputs": [
        {
          "output_type": "stream",
          "text": [
            "\r  0%|                                                                                         | 0/1509 [00:00<?, ?it/s]"
          ],
          "name": "stderr"
        },
        {
          "output_type": "stream",
          "text": [
            "Training model...\n",
            "Optimizer: Adam (\n",
            "Parameter Group 0\n",
            "    amsgrad: False\n",
            "    betas: (0.9, 0.999)\n",
            "    eps: 1e-08\n",
            "    lr: 6e-05\n",
            "    weight_decay: 0\n",
            ")\n",
            "Criterion: NLLLoss()\n",
            "epochs: 6\n"
          ],
          "name": "stdout"
        },
        {
          "output_type": "stream",
          "text": [
            "100%|██████████████████████████████████████████████████████████████████████████████| 1509/1509 [22:10<00:00,  1.13it/s]\n"
          ],
          "name": "stderr"
        },
        {
          "output_type": "stream",
          "text": [
            "epoch: 1 of 6 \n",
            "mean_loss: 0.6230943712021358 \n",
            "mae_loss: 7.835197613721103\n"
          ],
          "name": "stdout"
        },
        {
          "output_type": "display_data",
          "data": {
            "text/plain": [
              "<Figure size 432x288 with 1 Axes>"
            ],
            "image/png": "[encoded data removed]"
          },
          "metadata": {
            "tags": [],
            "needs_background": "light"
          }
        },
        {
          "output_type": "stream",
          "text": [
            "100%|██████████████████████████████████████████████████████████████████████████████| 1509/1509 [22:18<00:00,  1.13it/s]\n"
          ],
          "name": "stderr"
        },
        {
          "output_type": "stream",
          "text": [
            "epoch: 2 of 6 \n",
            "mean_loss: 0.3773021120220087 \n",
            "mae_loss: 8.667412378821775\n"
          ],
          "name": "stdout"
        },
        {
          "output_type": "display_data",
          "data": {
            "text/plain": [
              "<Figure size 432x288 with 1 Axes>"
            ],
            "image/png": "[encoded data removed]"
          },
          "metadata": {
            "tags": [],
            "needs_background": "light"
          }
        },
        {
          "output_type": "stream",
          "text": [
            "100%|██████████████████████████████████████████████████████████████████████████████| 1509/1509 [22:20<00:00,  1.13it/s]\n"
          ],
          "name": "stderr"
        },
        {
          "output_type": "stream",
          "text": [
            "epoch: 3 of 6 \n",
            "mean_loss: 0.13972824278262497 \n",
            "mae_loss: 7.104399701715138\n"
          ],
          "name": "stdout"
        },
        {
          "output_type": "display_data",
          "data": {
            "text/plain": [
              "<Figure size 432x288 with 1 Axes>"
            ],
            "image/png": "[encoded data removed]"
          },
          "metadata": {
            "tags": [],
            "needs_background": "light"
          }
        },
        {
          "output_type": "stream",
          "text": [
            "100%|██████████████████████████████████████████████████████████████████████████████| 1509/1509 [22:18<00:00,  1.13it/s]\n"
          ],
          "name": "stderr"
        },
        {
          "output_type": "stream",
          "text": [
            "epoch: 4 of 6 \n",
            "mean_loss: 0.059930062092561166 \n",
            "mae_loss: 8.349739000745712\n"
          ],
          "name": "stdout"
        },
        {
          "output_type": "display_data",
          "data": {
            "text/plain": [
              "<Figure size 432x288 with 1 Axes>"
            ],
            "image/png": "[encoded data removed]"
          },
          "metadata": {
            "tags": [],
            "needs_background": "light"
          }
        },
        {
          "output_type": "stream",
          "text": [
            "100%|██████████████████████████████████████████████████████████████████████████████| 1509/1509 [22:17<00:00,  1.13it/s]\n"
          ],
          "name": "stderr"
        },
        {
          "output_type": "stream",
          "text": [
            "epoch: 5 of 6 \n",
            "mean_loss: 0.058053679416946266 \n",
            "mae_loss: 5.630872483221476\n"
          ],
          "name": "stdout"
        },
        {
          "output_type": "display_data",
          "data": {
            "text/plain": [
              "<Figure size 432x288 with 1 Axes>"
            ],
            "image/png": "[encoded data removed]"
          },
          "metadata": {
            "tags": [],
            "needs_background": "light"
          }
        },
        {
          "output_type": "stream",
          "text": [
            "100%|██████████████████████████████████████████████████████████████████████████████| 1509/1509 [21:49<00:00,  1.15it/s]\n"
          ],
          "name": "stderr"
        },
        {
          "output_type": "stream",
          "text": [
            "epoch: 6 of 6 \n",
            "mean_loss: 0.035852809077948085 \n",
            "mae_loss: 6.372110365398956\n"
          ],
          "name": "stdout"
        },
        {
          "output_type": "display_data",
          "data": {
            "text/plain": [
              "<Figure size 432x288 with 1 Axes>"
            ],
            "image/png": "[encoded data removed]"
          },
          "metadata": {
            "tags": [],
            "needs_background": "light"
          }
        },
        {
          "output_type": "stream",
          "text": [
            "\r  0%|                                                                                         | 0/1509 [00:00<?, ?it/s]"
          ],
          "name": "stderr"
        },
        {
          "output_type": "stream",
          "text": [
            "Training finished\n",
            "Training model...\n",
            "Optimizer: Adam (\n",
            "Parameter Group 0\n",
            "    amsgrad: False\n",
            "    betas: (0.9, 0.999)\n",
            "    eps: 1e-08\n",
            "    lr: 4e-05\n",
            "    weight_decay: 0\n",
            ")\n",
            "Criterion: NLLLoss()\n",
            "epochs: 6\n"
          ],
          "name": "stdout"
        },
        {
          "output_type": "stream",
          "text": [
            "100%|██████████████████████████████████████████████████████████████████████████████| 1509/1509 [21:22<00:00,  1.18it/s]\n"
          ],
          "name": "stderr"
        },
        {
          "output_type": "stream",
          "text": [
            "epoch: 1 of 6 \n",
            "mean_loss: 0.01894941475342216 \n",
            "mae_loss: 5.818791946308725\n"
          ],
          "name": "stdout"
        },
        {
          "output_type": "display_data",
          "data": {
            "text/plain": [
              "<Figure size 432x288 with 1 Axes>"
            ],
            "image/png": "[encoded data removed]"
          },
          "metadata": {
            "tags": [],
            "needs_background": "light"
          }
        },
        {
          "output_type": "stream",
          "text": [
            "100%|██████████████████████████████████████████████████████████████████████████████| 1509/1509 [21:19<00:00,  1.18it/s]\n"
          ],
          "name": "stderr"
        },
        {
          "output_type": "stream",
          "text": [
            "epoch: 2 of 6 \n",
            "mean_loss: 0.018752688442402157 \n",
            "mae_loss: 4.351976137211037\n"
          ],
          "name": "stdout"
        },
        {
          "output_type": "display_data",
          "data": {
            "text/plain": [
              "<Figure size 432x288 with 1 Axes>"
            ],
            "image/png": "[encoded data removed]"
          },
          "metadata": {
            "tags": [],
            "needs_background": "light"
          }
        },
        {
          "output_type": "stream",
          "text": [
            "100%|██████████████████████████████████████████████████████████████████████████████| 1509/1509 [21:19<00:00,  1.18it/s]\n"
          ],
          "name": "stderr"
        },
        {
          "output_type": "stream",
          "text": [
            "epoch: 3 of 6 \n",
            "mean_loss: 0.021736095773521383 \n",
            "mae_loss: 6.250559284116331\n"
          ],
          "name": "stdout"
        },
        {
          "output_type": "display_data",
          "data": {
            "text/plain": [
              "<Figure size 432x288 with 1 Axes>"
            ],
            "image/png": "[encoded data removed]"
          },
          "metadata": {
            "tags": [],
            "needs_background": "light"
          }
        },
        {
          "output_type": "stream",
          "text": [
            "100%|██████████████████████████████████████████████████████████████████████████████| 1509/1509 [21:21<00:00,  1.18it/s]\n"
          ],
          "name": "stderr"
        },
        {
          "output_type": "stream",
          "text": [
            "epoch: 4 of 6 \n",
            "mean_loss: 0.01517277413791043 \n",
            "mae_loss: 3.5824011931394484\n"
          ],
          "name": "stdout"
        },
        {
          "output_type": "display_data",
          "data": {
            "text/plain": [
              "<Figure size 432x288 with 1 Axes>"
            ],
            "image/png": "[encoded data removed]"
          },
          "metadata": {
            "tags": [],
            "needs_background": "light"
          }
        },
        {
          "output_type": "stream",
          "text": [
            "100%|██████████████████████████████████████████████████████████████████████████████| 1509/1509 [21:23<00:00,  1.18it/s]\n"
          ],
          "name": "stderr"
        },
        {
          "output_type": "stream",
          "text": [
            "epoch: 5 of 6 \n",
            "mean_loss: 0.013312217714482943 \n",
            "mae_loss: 5.002982848620433\n"
          ],
          "name": "stdout"
        },
        {
          "output_type": "display_data",
          "data": {
            "text/plain": [
              "<Figure size 432x288 with 1 Axes>"
            ],
            "image/png": "[encoded data removed]"
          },
          "metadata": {
            "tags": [],
            "needs_background": "light"
          }
        },
        {
          "output_type": "stream",
          "text": [
            "100%|██████████████████████████████████████████████████████████████████████████████| 1509/1509 [21:45<00:00,  1.16it/s]\n"
          ],
          "name": "stderr"
        },
        {
          "output_type": "stream",
          "text": [
            "epoch: 6 of 6 \n",
            "mean_loss: 0.010723369980598058 \n",
            "mae_loss: 4.008202833706189\n"
          ],
          "name": "stdout"
        },
        {
          "output_type": "display_data",
          "data": {
            "text/plain": [
              "<Figure size 432x288 with 1 Axes>"
            ],
            "image/png": "[encoded data removed]"
          },
          "metadata": {
            "tags": [],
            "needs_background": "light"
          }
        },
        {
          "output_type": "stream",
          "text": [
            "\r  0%|                                                                                         | 0/1509 [00:00<?, ?it/s]"
          ],
          "name": "stderr"
        },
        {
          "output_type": "stream",
          "text": [
            "Training finished\n",
            "Training model...\n",
            "Optimizer: Adam (\n",
            "Parameter Group 0\n",
            "    amsgrad: False\n",
            "    betas: (0.9, 0.999)\n",
            "    eps: 1e-08\n",
            "    lr: 1e-05\n",
            "    weight_decay: 0\n",
            ")\n",
            "Criterion: NLLLoss()\n",
            "epochs: 6\n"
          ],
          "name": "stdout"
        },
        {
          "output_type": "stream",
          "text": [
            "100%|██████████████████████████████████████████████████████████████████████████████| 1509/1509 [21:52<00:00,  1.15it/s]\n"
          ],
          "name": "stderr"
        },
        {
          "output_type": "stream",
          "text": [
            "epoch: 1 of 6 \n",
            "mean_loss: 0.0071659559078526445 \n",
            "mae_loss: 4.272184936614467\n"
          ],
          "name": "stdout"
        },
        {
          "output_type": "display_data",
          "data": {
            "text/plain": [
              "<Figure size 432x288 with 1 Axes>"
            ],
            "image/png": "[encoded data removed]"
          },
          "metadata": {
            "tags": [],
            "needs_background": "light"
          }
        },
        {
          "output_type": "stream",
          "text": [
            "100%|██████████████████████████████████████████████████████████████████████████████| 1509/1509 [21:53<00:00,  1.15it/s]\n"
          ],
          "name": "stderr"
        },
        {
          "output_type": "stream",
          "text": [
            "epoch: 2 of 6 \n",
            "mean_loss: 0.003881426601513411 \n",
            "mae_loss: 4.27069351230425\n"
          ],
          "name": "stdout"
        },
        {
          "output_type": "display_data",
          "data": {
            "text/plain": [
              "<Figure size 432x288 with 1 Axes>"
            ],
            "image/png": "[encoded data removed]"
          },
          "metadata": {
            "tags": [],
            "needs_background": "light"
          }
        },
        {
          "output_type": "stream",
          "text": [
            "100%|██████████████████████████████████████████████████████████████████████████████| 1509/1509 [21:57<00:00,  1.15it/s]\n"
          ],
          "name": "stderr"
        },
        {
          "output_type": "stream",
          "text": [
            "epoch: 3 of 6 \n",
            "mean_loss: 0.0028231227868165676 \n",
            "mae_loss: 4.199105145413871\n"
          ],
          "name": "stdout"
        },
        {
          "output_type": "display_data",
          "data": {
            "text/plain": [
              "<Figure size 432x288 with 1 Axes>"
            ],
            "image/png": "[encoded data removed]"
          },
          "metadata": {
            "tags": [],
            "needs_background": "light"
          }
        },
        {
          "output_type": "stream",
          "text": [
            "100%|██████████████████████████████████████████████████████████████████████████████| 1509/1509 [21:59<00:00,  1.14it/s]\n"
          ],
          "name": "stderr"
        },
        {
          "output_type": "stream",
          "text": [
            "epoch: 4 of 6 \n",
            "mean_loss: 0.0043260417406398724 \n",
            "mae_loss: 3.967188665175242\n"
          ],
          "name": "stdout"
        },
        {
          "output_type": "display_data",
          "data": {
            "text/plain": [
              "<Figure size 432x288 with 1 Axes>"
            ],
            "image/png": "[encoded data removed]"
          },
          "metadata": {
            "tags": [],
            "needs_background": "light"
          }
        },
        {
          "output_type": "stream",
          "text": [
            "100%|██████████████████████████████████████████████████████████████████████████████| 1509/1509 [22:07<00:00,  1.14it/s]\n"
          ],
          "name": "stderr"
        },
        {
          "output_type": "stream",
          "text": [
            "epoch: 5 of 6 \n",
            "mean_loss: 0.0015507869970418072 \n",
            "mae_loss: 4.554064131245339\n"
          ],
          "name": "stdout"
        },
        {
          "output_type": "display_data",
          "data": {
            "text/plain": [
              "<Figure size 432x288 with 1 Axes>"
            ],
            "image/png": "[encoded data removed]"
          },
          "metadata": {
            "tags": [],
            "needs_background": "light"
          }
        },
        {
          "output_type": "stream",
          "text": [
            "100%|██████████████████████████████████████████████████████████████████████████████| 1509/1509 [21:43<00:00,  1.16it/s]\n"
          ],
          "name": "stderr"
        },
        {
          "output_type": "stream",
          "text": [
            "epoch: 6 of 6 \n",
            "mean_loss: 0.002068746164953013 \n",
            "mae_loss: 4.663683818046234\n"
          ],
          "name": "stdout"
        },
        {
          "output_type": "display_data",
          "data": {
            "text/plain": [
              "<Figure size 432x288 with 1 Axes>"
            ],
            "image/png": "[encoded data removed]"
          },
          "metadata": {
            "tags": [],
            "needs_background": "light"
          }
        },
        {
          "output_type": "stream",
          "text": [
            "Training finished\n"
          ],
          "name": "stdout"
        }
      ]
    },
    {
      "cell_type": "code",
      "metadata": {
        "colab": {
          "base_uri": "https://localhost:8080/",
          "height": 1000
        },
        "id": "JldhMgOqOSnB",
        "outputId": "1510c8c6-784d-41d9-d339-e10649921e2c"
      },
      "source": [
        "train_reg_via_class(epochs=3, lr=0.00006)\n",
        "train_reg_via_class(epochs=4, lr=0.00004)\n",
        "# train_reg_via_class(epochs=3, lr=0.00001)"
      ],
      "execution_count": null,
      "outputs": [
        {
          "output_type": "stream",
          "text": [
            "\r  0%|                                                                                         | 0/1509 [00:00<?, ?it/s]"
          ],
          "name": "stderr"
        },
        {
          "output_type": "stream",
          "text": [
            "Training model...\n",
            "Optimizer: Adam (\n",
            "Parameter Group 0\n",
            "    amsgrad: False\n",
            "    betas: (0.9, 0.999)\n",
            "    eps: 1e-08\n",
            "    lr: 6e-05\n",
            "    weight_decay: 0\n",
            ")\n",
            "Criterion: NLLLoss()\n",
            "epochs: 3\n"
          ],
          "name": "stdout"
        },
        {
          "output_type": "stream",
          "text": [
            "100%|██████████████████████████████████████████████████████████████████████████████| 1509/1509 [23:13<00:00,  1.08it/s]\n"
          ],
          "name": "stderr"
        },
        {
          "output_type": "stream",
          "text": [
            "epoch: 1 of 3 \n",
            "mean_loss: 0.5991072714960757 \n",
            "mae_loss: 7.779269202087994\n"
          ],
          "name": "stdout"
        },
        {
          "output_type": "display_data",
          "data": {
            "text/plain": [
              "<Figure size 432x288 with 1 Axes>"
            ],
            "image/png": "[encoded data removed]"
          },
          "metadata": {
            "tags": [],
            "needs_background": "light"
          }
        },
        {
          "output_type": "stream",
          "text": [
            "100%|██████████████████████████████████████████████████████████████████████████████| 1509/1509 [23:09<00:00,  1.09it/s]\n"
          ],
          "name": "stderr"
        },
        {
          "output_type": "stream",
          "text": [
            "epoch: 2 of 3 \n",
            "mean_loss: 0.368177243277728 \n",
            "mae_loss: 7.272184936614467\n"
          ],
          "name": "stdout"
        },
        {
          "output_type": "display_data",
          "data": {
            "text/plain": [
              "<Figure size 432x288 with 1 Axes>"
            ],
            "image/png": "[encoded data removed]"
          },
          "metadata": {
            "tags": [],
            "needs_background": "light"
          }
        },
        {
          "output_type": "stream",
          "text": [
            "100%|██████████████████████████████████████████████████████████████████████████████| 1509/1509 [23:12<00:00,  1.08it/s]\n"
          ],
          "name": "stderr"
        },
        {
          "output_type": "stream",
          "text": [
            "epoch: 3 of 3 \n",
            "mean_loss: 0.11008101620801186 \n",
            "mae_loss: 5.3340790454884415\n"
          ],
          "name": "stdout"
        },
        {
          "output_type": "display_data",
          "data": {
            "text/plain": [
              "<Figure size 432x288 with 1 Axes>"
            ],
            "image/png": "[encoded data removed]"
          },
          "metadata": {
            "tags": [],
            "needs_background": "light"
          }
        },
        {
          "output_type": "stream",
          "text": [
            "\r  0%|                                                                                         | 0/1509 [00:00<?, ?it/s]"
          ],
          "name": "stderr"
        },
        {
          "output_type": "stream",
          "text": [
            "Training finished\n",
            "Training model...\n",
            "Optimizer: Adam (\n",
            "Parameter Group 0\n",
            "    amsgrad: False\n",
            "    betas: (0.9, 0.999)\n",
            "    eps: 1e-08\n",
            "    lr: 4e-05\n",
            "    weight_decay: 0\n",
            ")\n",
            "Criterion: NLLLoss()\n",
            "epochs: 4\n"
          ],
          "name": "stdout"
        },
        {
          "output_type": "stream",
          "text": [
            "100%|██████████████████████████████████████████████████████████████████████████████| 1509/1509 [23:07<00:00,  1.09it/s]\n"
          ],
          "name": "stderr"
        },
        {
          "output_type": "stream",
          "text": [
            "epoch: 1 of 4 \n",
            "mean_loss: 0.0493564102814612 \n",
            "mae_loss: 4.167785234899329\n"
          ],
          "name": "stdout"
        },
        {
          "output_type": "display_data",
          "data": {
            "text/plain": [
              "<Figure size 432x288 with 1 Axes>"
            ],
            "image/png": "[encoded data removed]"
          },
          "metadata": {
            "tags": [],
            "needs_background": "light"
          }
        },
        {
          "output_type": "stream",
          "text": [
            "100%|██████████████████████████████████████████████████████████████████████████████| 1509/1509 [23:39<00:00,  1.06it/s]\n"
          ],
          "name": "stderr"
        },
        {
          "output_type": "stream",
          "text": [
            "epoch: 2 of 4 \n",
            "mean_loss: 0.04866988182981411 \n",
            "mae_loss: 5.24683072334079\n"
          ],
          "name": "stdout"
        },
        {
          "output_type": "display_data",
          "data": {
            "text/plain": [
              "<Figure size 432x288 with 1 Axes>"
            ],
            "image/png": "[encoded data removed]"
          },
          "metadata": {
            "tags": [],
            "needs_background": "light"
          }
        },
        {
          "output_type": "stream",
          "text": [
            "100%|██████████████████████████████████████████████████████████████████████████████| 1509/1509 [24:03<00:00,  1.05it/s]\n"
          ],
          "name": "stderr"
        },
        {
          "output_type": "stream",
          "text": [
            "epoch: 3 of 4 \n",
            "mean_loss: 0.03752006883896708 \n",
            "mae_loss: 5.225205070842655\n"
          ],
          "name": "stdout"
        },
        {
          "output_type": "display_data",
          "data": {
            "text/plain": [
              "<Figure size 432x288 with 1 Axes>"
            ],
            "image/png": "[encoded data removed]"
          },
          "metadata": {
            "tags": [],
            "needs_background": "light"
          }
        },
        {
          "output_type": "stream",
          "text": [
            " 34%|██████████████████████████▉                                                    | 515/1509 [08:13<15:51,  1.04it/s]\n"
          ],
          "name": "stderr"
        },
        {
          "output_type": "error",
          "ename": "KeyboardInterrupt",
          "evalue": "ignored",
          "traceback": [
            "\u001b[1;31m---------------------------------------------------------------------------\u001b[0m",
            "\u001b[1;31mKeyboardInterrupt\u001b[0m                         Traceback (most recent call last)",
            "\u001b[1;32m<ipython-input-41-b0e830b6e93a>\u001b[0m in \u001b[0;36m<module>\u001b[1;34m\u001b[0m\n\u001b[0;32m      1\u001b[0m \u001b[0mtrain_reg_via_class\u001b[0m\u001b[1;33m(\u001b[0m\u001b[0mepochs\u001b[0m\u001b[1;33m=\u001b[0m\u001b[1;36m3\u001b[0m\u001b[1;33m,\u001b[0m \u001b[0mlr\u001b[0m\u001b[1;33m=\u001b[0m\u001b[1;36m0.00006\u001b[0m\u001b[1;33m)\u001b[0m\u001b[1;33m\u001b[0m\u001b[1;33m\u001b[0m\u001b[0m\n\u001b[1;32m----> 2\u001b[1;33m \u001b[0mtrain_reg_via_class\u001b[0m\u001b[1;33m(\u001b[0m\u001b[0mepochs\u001b[0m\u001b[1;33m=\u001b[0m\u001b[1;36m4\u001b[0m\u001b[1;33m,\u001b[0m \u001b[0mlr\u001b[0m\u001b[1;33m=\u001b[0m\u001b[1;36m0.00004\u001b[0m\u001b[1;33m)\u001b[0m\u001b[1;33m\u001b[0m\u001b[1;33m\u001b[0m\u001b[0m\n\u001b[0m\u001b[0;32m      3\u001b[0m \u001b[1;31m# train_reg_via_class(epochs=3, lr=0.00001)\u001b[0m\u001b[1;33m\u001b[0m\u001b[1;33m\u001b[0m\u001b[1;33m\u001b[0m\u001b[0m\n",
            "\u001b[1;32m<ipython-input-39-66d5b6427735>\u001b[0m in \u001b[0;36mtrain_reg_via_class\u001b[1;34m(epochs, lr, verbose)\u001b[0m\n\u001b[0;32m     18\u001b[0m             \u001b[1;31m# print(get_classes(y))\u001b[0m\u001b[1;33m\u001b[0m\u001b[1;33m\u001b[0m\u001b[1;33m\u001b[0m\u001b[0m\n\u001b[0;32m     19\u001b[0m             \u001b[0mloss\u001b[0m\u001b[1;33m.\u001b[0m\u001b[0mbackward\u001b[0m\u001b[1;33m(\u001b[0m\u001b[1;33m)\u001b[0m\u001b[1;33m\u001b[0m\u001b[1;33m\u001b[0m\u001b[0m\n\u001b[1;32m---> 20\u001b[1;33m             \u001b[0mlosses\u001b[0m\u001b[1;33m.\u001b[0m\u001b[0mappend\u001b[0m\u001b[1;33m(\u001b[0m\u001b[0mloss\u001b[0m\u001b[1;33m.\u001b[0m\u001b[0mitem\u001b[0m\u001b[1;33m(\u001b[0m\u001b[1;33m)\u001b[0m\u001b[1;33m)\u001b[0m\u001b[1;33m\u001b[0m\u001b[1;33m\u001b[0m\u001b[0m\n\u001b[0m\u001b[0;32m     21\u001b[0m             \u001b[0moptimizer\u001b[0m\u001b[1;33m.\u001b[0m\u001b[0mstep\u001b[0m\u001b[1;33m(\u001b[0m\u001b[1;33m)\u001b[0m\u001b[1;33m\u001b[0m\u001b[1;33m\u001b[0m\u001b[0m\n\u001b[0;32m     22\u001b[0m \u001b[1;33m\u001b[0m\u001b[0m\n",
            "\u001b[1;31mKeyboardInterrupt\u001b[0m: "
          ]
        }
      ]
    },
    {
      "cell_type": "code",
      "metadata": {
        "colab": {
          "base_uri": "https://localhost:8080/",
          "height": 1000
        },
        "id": "5wkQPiYTRvGO",
        "outputId": "943b1606-b03f-446e-da18-40323d0185cf"
      },
      "source": [
        "train_reg_via_class(epochs=2, lr=0.00001)\n",
        "train_reg_via_class(epochs=5, lr=0.000007)"
      ],
      "execution_count": null,
      "outputs": [
        {
          "output_type": "stream",
          "text": [
            "\r  0%|                                                                                         | 0/1509 [00:00<?, ?it/s]"
          ],
          "name": "stderr"
        },
        {
          "output_type": "stream",
          "text": [
            "Training model...\n",
            "Optimizer: Adam (\n",
            "Parameter Group 0\n",
            "    amsgrad: False\n",
            "    betas: (0.9, 0.999)\n",
            "    eps: 1e-08\n",
            "    lr: 1e-05\n",
            "    weight_decay: 0\n",
            ")\n",
            "Criterion: NLLLoss()\n",
            "epochs: 2\n"
          ],
          "name": "stdout"
        },
        {
          "output_type": "stream",
          "text": [
            "100%|██████████████████████████████████████████████████████████████████████████████| 1509/1509 [07:03<00:00,  3.57it/s]\n"
          ],
          "name": "stderr"
        },
        {
          "output_type": "stream",
          "text": [
            "epoch: 1 of 2 \n",
            "mean_loss: 0.0022914474088083043 \n",
            "mae_loss: 0.2080536912751678\n"
          ],
          "name": "stdout"
        },
        {
          "output_type": "display_data",
          "data": {
            "text/plain": [
              "<Figure size 432x288 with 1 Axes>"
            ],
            "image/png": "[encoded data removed]"
          },
          "metadata": {
            "tags": [],
            "needs_background": "light"
          }
        },
        {
          "output_type": "stream",
          "text": [
            "100%|██████████████████████████████████████████████████████████████████████████████| 1509/1509 [07:07<00:00,  3.53it/s]\n"
          ],
          "name": "stderr"
        },
        {
          "output_type": "stream",
          "text": [
            "epoch: 2 of 2 \n",
            "mean_loss: 0.001411595051652606 \n",
            "mae_loss: 0.19910514541387025\n"
          ],
          "name": "stdout"
        },
        {
          "output_type": "display_data",
          "data": {
            "text/plain": [
              "<Figure size 432x288 with 1 Axes>"
            ],
            "image/png": "[encoded data removed]"
          },
          "metadata": {
            "tags": [],
            "needs_background": "light"
          }
        },
        {
          "output_type": "stream",
          "text": [
            "\r  0%|                                                                                         | 0/1509 [00:00<?, ?it/s]"
          ],
          "name": "stderr"
        },
        {
          "output_type": "stream",
          "text": [
            "Training finished\n",
            "Training model...\n",
            "Optimizer: Adam (\n",
            "Parameter Group 0\n",
            "    amsgrad: False\n",
            "    betas: (0.9, 0.999)\n",
            "    eps: 1e-08\n",
            "    lr: 7e-06\n",
            "    weight_decay: 0\n",
            ")\n",
            "Criterion: NLLLoss()\n",
            "epochs: 5\n"
          ],
          "name": "stdout"
        },
        {
          "output_type": "stream",
          "text": [
            "100%|██████████████████████████████████████████████████████████████████████████████| 1509/1509 [07:07<00:00,  3.53it/s]\n"
          ],
          "name": "stderr"
        },
        {
          "output_type": "stream",
          "text": [
            "epoch: 1 of 5 \n",
            "mean_loss: 0.0020060886012057827 \n",
            "mae_loss: 0.14615958240119314\n"
          ],
          "name": "stdout"
        },
        {
          "output_type": "display_data",
          "data": {
            "text/plain": [
              "<Figure size 432x288 with 1 Axes>"
            ],
            "image/png": "[encoded data removed]"
          },
          "metadata": {
            "tags": [],
            "needs_background": "light"
          }
        },
        {
          "output_type": "stream",
          "text": [
            "100%|██████████████████████████████████████████████████████████████████████████████| 1509/1509 [07:08<00:00,  3.52it/s]\n"
          ],
          "name": "stderr"
        },
        {
          "output_type": "stream",
          "text": [
            "epoch: 2 of 5 \n",
            "mean_loss: 0.0011991896144283771 \n",
            "mae_loss: 0.1715137956748695\n"
          ],
          "name": "stdout"
        },
        {
          "output_type": "display_data",
          "data": {
            "text/plain": [
              "<Figure size 432x288 with 1 Axes>"
            ],
            "image/png": "[encoded data removed]"
          },
          "metadata": {
            "tags": [],
            "needs_background": "light"
          }
        },
        {
          "output_type": "stream",
          "text": [
            "100%|██████████████████████████████████████████████████████████████████████████████| 1509/1509 [07:11<00:00,  3.49it/s]\n"
          ],
          "name": "stderr"
        },
        {
          "output_type": "stream",
          "text": [
            "epoch: 3 of 5 \n",
            "mean_loss: 6.718968395823709e-05 \n",
            "mae_loss: 0.12900820283370618\n"
          ],
          "name": "stdout"
        },
        {
          "output_type": "display_data",
          "data": {
            "text/plain": [
              "<Figure size 432x288 with 1 Axes>"
            ],
            "image/png": "[encoded data removed]"
          },
          "metadata": {
            "tags": [],
            "needs_background": "light"
          }
        },
        {
          "output_type": "stream",
          "text": [
            "100%|██████████████████████████████████████████████████████████████████████████████| 1509/1509 [07:11<00:00,  3.50it/s]\n"
          ],
          "name": "stderr"
        },
        {
          "output_type": "stream",
          "text": [
            "epoch: 4 of 5 \n",
            "mean_loss: 0.0008365211141134499 \n",
            "mae_loss: 0.16181953765846382\n"
          ],
          "name": "stdout"
        },
        {
          "output_type": "display_data",
          "data": {
            "text/plain": [
              "<Figure size 432x288 with 1 Axes>"
            ],
            "image/png": "[encoded data removed]"
          },
          "metadata": {
            "tags": [],
            "needs_background": "light"
          }
        },
        {
          "output_type": "stream",
          "text": [
            "100%|██████████████████████████████████████████████████████████████████████████████| 1509/1509 [07:11<00:00,  3.49it/s]\n"
          ],
          "name": "stderr"
        },
        {
          "output_type": "stream",
          "text": [
            "epoch: 5 of 5 \n",
            "mean_loss: 0.0003724348219409443 \n",
            "mae_loss: 0.06785980611483967\n"
          ],
          "name": "stdout"
        },
        {
          "output_type": "display_data",
          "data": {
            "text/plain": [
              "<Figure size 432x288 with 1 Axes>"
            ],
            "image/png": "[encoded data removed]"
          },
          "metadata": {
            "tags": [],
            "needs_background": "light"
          }
        },
        {
          "output_type": "stream",
          "text": [
            "Training finished\n"
          ],
          "name": "stdout"
        }
      ]
    },
    {
      "cell_type": "code",
      "metadata": {
        "colab": {
          "base_uri": "https://localhost:8080/",
          "height": 1000
        },
        "id": "277Bb0dJjfPS",
        "outputId": "33378d7a-c194-402c-df1a-9f2620280050"
      },
      "source": [
        "train_reg_via_class(epochs=2, lr=0.000007)\n",
        "train_reg_via_class(epochs=5, lr=0.000003)"
      ],
      "execution_count": null,
      "outputs": [
        {
          "output_type": "stream",
          "text": [
            "\r  0%|                                                                                         | 0/1509 [00:00<?, ?it/s]"
          ],
          "name": "stderr"
        },
        {
          "output_type": "stream",
          "text": [
            "Training model...\n",
            "Optimizer: Adam (\n",
            "Parameter Group 0\n",
            "    amsgrad: False\n",
            "    betas: (0.9, 0.999)\n",
            "    eps: 1e-08\n",
            "    lr: 7e-06\n",
            "    weight_decay: 0\n",
            ")\n",
            "Criterion: NLLLoss()\n",
            "epochs: 2\n"
          ],
          "name": "stdout"
        },
        {
          "output_type": "stream",
          "text": [
            "100%|██████████████████████████████████████████████████████████████████████████████| 1509/1509 [07:03<00:00,  3.56it/s]\n"
          ],
          "name": "stderr"
        },
        {
          "output_type": "stream",
          "text": [
            "epoch: 1 of 2 \n",
            "mean_loss: 0.00041376781747592956 \n",
            "mae_loss: 0.09545115585384041\n"
          ],
          "name": "stdout"
        },
        {
          "output_type": "display_data",
          "data": {
            "text/plain": [
              "<Figure size 432x288 with 1 Axes>"
            ],
            "image/png": "[encoded data removed]"
          },
          "metadata": {
            "tags": [],
            "needs_background": "light"
          }
        },
        {
          "output_type": "stream",
          "text": [
            "100%|██████████████████████████████████████████████████████████████████████████████| 1509/1509 [07:10<00:00,  3.50it/s]\n"
          ],
          "name": "stderr"
        },
        {
          "output_type": "stream",
          "text": [
            "epoch: 2 of 2 \n",
            "mean_loss: 0.0006393198281551492 \n",
            "mae_loss: 0.08202833706189411\n"
          ],
          "name": "stdout"
        },
        {
          "output_type": "display_data",
          "data": {
            "text/plain": [
              "<Figure size 432x288 with 1 Axes>"
            ],
            "image/png": "[encoded data removed]"
          },
          "metadata": {
            "tags": [],
            "needs_background": "light"
          }
        },
        {
          "output_type": "stream",
          "text": [
            "\r  0%|                                                                                         | 0/1509 [00:00<?, ?it/s]"
          ],
          "name": "stderr"
        },
        {
          "output_type": "stream",
          "text": [
            "Training finished\n",
            "Training model...\n",
            "Optimizer: Adam (\n",
            "Parameter Group 0\n",
            "    amsgrad: False\n",
            "    betas: (0.9, 0.999)\n",
            "    eps: 1e-08\n",
            "    lr: 3e-06\n",
            "    weight_decay: 0\n",
            ")\n",
            "Criterion: NLLLoss()\n",
            "epochs: 5\n"
          ],
          "name": "stdout"
        },
        {
          "output_type": "stream",
          "text": [
            "100%|██████████████████████████████████████████████████████████████████████████████| 1509/1509 [08:50<00:00,  2.84it/s]\n"
          ],
          "name": "stderr"
        },
        {
          "output_type": "stream",
          "text": [
            "epoch: 1 of 5 \n",
            "mean_loss: 0.0005425723789821448 \n",
            "mae_loss: 0.06711409395973154\n"
          ],
          "name": "stdout"
        },
        {
          "output_type": "display_data",
          "data": {
            "text/plain": [
              "<Figure size 432x288 with 1 Axes>"
            ],
            "image/png": "[encoded data removed]"
          },
          "metadata": {
            "tags": [],
            "needs_background": "light"
          }
        },
        {
          "output_type": "stream",
          "text": [
            "100%|██████████████████████████████████████████████████████████████████████████████| 1509/1509 [07:13<00:00,  3.48it/s]\n"
          ],
          "name": "stderr"
        },
        {
          "output_type": "stream",
          "text": [
            "epoch: 2 of 5 \n",
            "mean_loss: 3.8985504545500804e-05 \n",
            "mae_loss: 0.0924683072334079\n"
          ],
          "name": "stdout"
        },
        {
          "output_type": "display_data",
          "data": {
            "text/plain": [
              "<Figure size 432x288 with 1 Axes>"
            ],
            "image/png": "[encoded data removed]"
          },
          "metadata": {
            "tags": [],
            "needs_background": "light"
          }
        },
        {
          "output_type": "stream",
          "text": [
            "100%|██████████████████████████████████████████████████████████████████████████████| 1509/1509 [07:19<00:00,  3.43it/s]\n"
          ],
          "name": "stderr"
        },
        {
          "output_type": "stream",
          "text": [
            "epoch: 3 of 5 \n",
            "mean_loss: 8.274105978582217e-06 \n",
            "mae_loss: 0.08202833706189411\n"
          ],
          "name": "stdout"
        },
        {
          "output_type": "display_data",
          "data": {
            "text/plain": [
              "<Figure size 432x288 with 1 Axes>"
            ],
            "image/png": "[encoded data removed]"
          },
          "metadata": {
            "tags": [],
            "needs_background": "light"
          }
        },
        {
          "output_type": "stream",
          "text": [
            "100%|██████████████████████████████████████████████████████████████████████████████| 1509/1509 [07:22<00:00,  3.41it/s]\n"
          ],
          "name": "stderr"
        },
        {
          "output_type": "stream",
          "text": [
            "epoch: 4 of 5 \n",
            "mean_loss: 0.00036488732317230927 \n",
            "mae_loss: 0.09395973154362416\n"
          ],
          "name": "stdout"
        },
        {
          "output_type": "display_data",
          "data": {
            "text/plain": [
              "<Figure size 432x288 with 1 Axes>"
            ],
            "image/png": "[encoded data removed]"
          },
          "metadata": {
            "tags": [],
            "needs_background": "light"
          }
        },
        {
          "output_type": "stream",
          "text": [
            "100%|██████████████████████████████████████████████████████████████████████████████| 1509/1509 [07:19<00:00,  3.44it/s]\n"
          ],
          "name": "stderr"
        },
        {
          "output_type": "stream",
          "text": [
            "epoch: 5 of 5 \n",
            "mean_loss: 0.00036006310412613625 \n",
            "mae_loss: 0.06040268456375839\n"
          ],
          "name": "stdout"
        },
        {
          "output_type": "display_data",
          "data": {
            "text/plain": [
              "<Figure size 432x288 with 1 Axes>"
            ],
            "image/png": "[encoded data removed]"
          },
          "metadata": {
            "tags": [],
            "needs_background": "light"
          }
        },
        {
          "output_type": "stream",
          "text": [
            "Training finished\n"
          ],
          "name": "stdout"
        }
      ]
    },
    {
      "cell_type": "code",
      "metadata": {
        "colab": {
          "base_uri": "https://localhost:8080/"
        },
        "id": "xfIzlRyGYtEi",
        "outputId": "9170f707-b71a-49f7-b405-654005745c64"
      },
      "source": [
        "mae(model, dataset_train)"
      ],
      "execution_count": null,
      "outputs": [
        {
          "output_type": "execute_result",
          "data": {
            "text/plain": [
              "0.030579265766139056"
            ]
          },
          "metadata": {
            "tags": []
          },
          "execution_count": 28
        }
      ]
    },
    {
      "cell_type": "code",
      "metadata": {
        "colab": {
          "base_uri": "https://localhost:8080/",
          "height": 1000
        },
        "id": "1Rj3fpQ3viyO",
        "outputId": "df4ac72e-f7b6-4b66-b3c2-e430d94004d9"
      },
      "source": [
        "train_reg_via_class(epochs=10/, lr=0.000005)"
      ],
      "execution_count": null,
      "outputs": [
        {
          "output_type": "stream",
          "text": [
            "\r  0%|                                                                                         | 0/1509 [00:00<?, ?it/s]"
          ],
          "name": "stderr"
        },
        {
          "output_type": "stream",
          "text": [
            "Training model...\n",
            "Optimizer: Adam (\n",
            "Parameter Group 0\n",
            "    amsgrad: False\n",
            "    betas: (0.9, 0.999)\n",
            "    eps: 1e-08\n",
            "    lr: 5e-06\n",
            "    weight_decay: 0\n",
            ")\n",
            "Criterion: NLLLoss()\n",
            "epochs: 10\n"
          ],
          "name": "stdout"
        },
        {
          "output_type": "stream",
          "text": [
            "100%|██████████████████████████████████████████████████████████████████████████████| 1509/1509 [07:05<00:00,  3.54it/s]\n"
          ],
          "name": "stderr"
        },
        {
          "output_type": "stream",
          "text": [
            "epoch: 1 of 10 \n",
            "mean_loss: 0.000314454522302173 \n",
            "mae_loss: 0.08799403430275914\n"
          ],
          "name": "stdout"
        },
        {
          "output_type": "display_data",
          "data": {
            "text/plain": [
              "<Figure size 432x288 with 1 Axes>"
            ],
            "image/png": "[encoded data removed]"
          },
          "metadata": {
            "tags": [],
            "needs_background": "light"
          }
        },
        {
          "output_type": "stream",
          "text": [
            "100%|██████████████████████████████████████████████████████████████████████████████| 1509/1509 [07:15<00:00,  3.46it/s]\n"
          ],
          "name": "stderr"
        },
        {
          "output_type": "stream",
          "text": [
            "epoch: 2 of 10 \n",
            "mean_loss: 0.000307493375449699 \n",
            "mae_loss: 0.14168530947054436\n"
          ],
          "name": "stdout"
        },
        {
          "output_type": "display_data",
          "data": {
            "text/plain": [
              "<Figure size 432x288 with 1 Axes>"
            ],
            "image/png": "[encoded data removed]"
          },
          "metadata": {
            "tags": [],
            "needs_background": "light"
          }
        },
        {
          "output_type": "stream",
          "text": [
            "100%|██████████████████████████████████████████████████████████████████████████████| 1509/1509 [07:23<00:00,  3.40it/s]\n"
          ],
          "name": "stderr"
        },
        {
          "output_type": "stream",
          "text": [
            "epoch: 3 of 10 \n",
            "mean_loss: 0.00029751879739124205 \n",
            "mae_loss: 0.07829977628635347\n"
          ],
          "name": "stdout"
        },
        {
          "output_type": "display_data",
          "data": {
            "text/plain": [
              "<Figure size 432x288 with 1 Axes>"
            ],
            "image/png": "[encoded data removed]"
          },
          "metadata": {
            "tags": [],
            "needs_background": "light"
          }
        },
        {
          "output_type": "stream",
          "text": [
            "100%|██████████████████████████████████████████████████████████████████████████████| 1509/1509 [07:24<00:00,  3.40it/s]\n"
          ],
          "name": "stderr"
        },
        {
          "output_type": "stream",
          "text": [
            "epoch: 4 of 10 \n",
            "mean_loss: 5.809067945007639e-06 \n",
            "mae_loss: 0.07233407904548844\n"
          ],
          "name": "stdout"
        },
        {
          "output_type": "display_data",
          "data": {
            "text/plain": [
              "<Figure size 432x288 with 1 Axes>"
            ],
            "image/png": "[encoded data removed]"
          },
          "metadata": {
            "tags": [],
            "needs_background": "light"
          }
        },
        {
          "output_type": "stream",
          "text": [
            "100%|██████████████████████████████████████████████████████████████████████████████| 1509/1509 [07:22<00:00,  3.41it/s]\n"
          ],
          "name": "stderr"
        },
        {
          "output_type": "stream",
          "text": [
            "epoch: 5 of 10 \n",
            "mean_loss: 3.229941836176237e-06 \n",
            "mae_loss: 0.07009694258016405\n"
          ],
          "name": "stdout"
        },
        {
          "output_type": "display_data",
          "data": {
            "text/plain": [
              "<Figure size 432x288 with 1 Axes>"
            ],
            "image/png": "[encoded data removed]"
          },
          "metadata": {
            "tags": [],
            "needs_background": "light"
          }
        },
        {
          "output_type": "stream",
          "text": [
            "100%|██████████████████████████████████████████████████████████████████████████████| 1509/1509 [07:23<00:00,  3.40it/s]\n"
          ],
          "name": "stderr"
        },
        {
          "output_type": "stream",
          "text": [
            "epoch: 6 of 10 \n",
            "mean_loss: 2.726175117965947e-06 \n",
            "mae_loss: 0.0738255033557047\n"
          ],
          "name": "stdout"
        },
        {
          "output_type": "display_data",
          "data": {
            "text/plain": [
              "<Figure size 432x288 with 1 Axes>"
            ],
            "image/png": "[encoded data removed]"
          },
          "metadata": {
            "tags": [],
            "needs_background": "light"
          }
        },
        {
          "output_type": "stream",
          "text": [
            "100%|██████████████████████████████████████████████████████████████████████████████| 1509/1509 [07:24<00:00,  3.39it/s]\n"
          ],
          "name": "stderr"
        },
        {
          "output_type": "stream",
          "text": [
            "epoch: 7 of 10 \n",
            "mean_loss: 0.0005318285346766209 \n",
            "mae_loss: 0.026845637583892617\n"
          ],
          "name": "stdout"
        },
        {
          "output_type": "display_data",
          "data": {
            "text/plain": [
              "<Figure size 432x288 with 1 Axes>"
            ],
            "image/png": "[encoded data removed]"
          },
          "metadata": {
            "tags": [],
            "needs_background": "light"
          }
        },
        {
          "output_type": "stream",
          "text": [
            "100%|██████████████████████████████████████████████████████████████████████████████| 1509/1509 [07:14<00:00,  3.47it/s]\n"
          ],
          "name": "stderr"
        },
        {
          "output_type": "stream",
          "text": [
            "epoch: 8 of 10 \n",
            "mean_loss: 0.000417637569813933 \n",
            "mae_loss: 0.061894108873974646\n"
          ],
          "name": "stdout"
        },
        {
          "output_type": "display_data",
          "data": {
            "text/plain": [
              "<Figure size 432x288 with 1 Axes>"
            ],
            "image/png": "[encoded data removed]"
          },
          "metadata": {
            "tags": [],
            "needs_background": "light"
          }
        },
        {
          "output_type": "stream",
          "text": [
            "100%|██████████████████████████████████████████████████████████████████████████████| 1509/1509 [07:12<00:00,  3.49it/s]\n"
          ],
          "name": "stderr"
        },
        {
          "output_type": "stream",
          "text": [
            "epoch: 9 of 10 \n",
            "mean_loss: 1.7046948801560163e-06 \n",
            "mae_loss: 0.08053691275167785\n"
          ],
          "name": "stdout"
        },
        {
          "output_type": "display_data",
          "data": {
            "text/plain": [
              "<Figure size 432x288 with 1 Axes>"
            ],
            "image/png": "[encoded data removed]"
          },
          "metadata": {
            "tags": [],
            "needs_background": "light"
          }
        },
        {
          "output_type": "stream",
          "text": [
            "100%|██████████████████████████████████████████████████████████████████████████████| 1509/1509 [07:12<00:00,  3.49it/s]\n"
          ],
          "name": "stderr"
        },
        {
          "output_type": "stream",
          "text": [
            "epoch: 10 of 10 \n",
            "mean_loss: 8.665387851306699e-06 \n",
            "mae_loss: 0.06935123042505593\n"
          ],
          "name": "stdout"
        },
        {
          "output_type": "display_data",
          "data": {
            "text/plain": [
              "<Figure size 432x288 with 1 Axes>"
            ],
            "image/png": "[encoded data removed]"
          },
          "metadata": {
            "tags": [],
            "needs_background": "light"
          }
        },
        {
          "output_type": "stream",
          "text": [
            "Training finished\n"
          ],
          "name": "stdout"
        }
      ]
    },
    {
      "cell_type": "code",
      "metadata": {
        "id": "8gxjF0y5Ftek"
      },
      "source": [
        "torch.save(model.state_dict(), 'C:\\\\Users\\\\Timofey\\\\Reg_via_class_idao_4.pth') # <-- save model"
      ],
      "execution_count": null,
      "outputs": []
    },
    {
      "cell_type": "markdown",
      "metadata": {
        "id": "-Uy28f7fiKzy"
      },
      "source": [
        "## Autoencoder"
      ]
    },
    {
      "cell_type": "code",
      "metadata": {
        "id": "pA6oG7LDuhap"
      },
      "source": [
        "class Autoencoder_model(nn.Module):\n",
        "    def __init__(self):\n",
        "        super().__init__()\n",
        "        \n",
        "        self.encoder = nn.Sequential(\n",
        "            nn.Conv2d(1, 64, (3, 3), padding=1, padding_mode='reflect'),\n",
        "            nn.SiLU(), \n",
        "            nn.Conv2d(64, 64, (3, 3), padding=1, padding_mode='reflect'),\n",
        "            nn.SiLU(), \n",
        "            nn.MaxPool2d((2, 2), stride=(2, 2)),\n",
        "            nn.Conv2d(64, 128, (3, 3), padding=1, padding_mode='reflect'),\n",
        "            nn.SiLU(),\n",
        "            nn.Conv2d(128, 128, (3, 3), padding=1, padding_mode='reflect'),\n",
        "            nn.SiLU(),\n",
        "            nn.AvgPool2d((2, 2), stride=(2, 2)),\n",
        "            nn.Conv2d(128, 256, (5, 5), padding=2, padding_mode='reflect'), \n",
        "            nn.SiLU(),\n",
        "            nn.Conv2d(256, 256, (5, 5), padding=2, padding_mode='reflect'), \n",
        "            nn.SiLU(),\n",
        "            nn.MaxPool2d((2, 2), stride=(2, 2)),\n",
        "            # nn.Conv2d(256, 256, (5, 5), padding=2, padding_mode='reflect'), \n",
        "            # nn.SiLU(),\n",
        "            nn.Conv2d(256, 256, (5, 5), padding=2, padding_mode='reflect'), \n",
        "            nn.SiLU(),\n",
        "            nn.MaxPool2d((2, 2), stride=(2, 2)),\n",
        "            # nn.Conv2d(256, 256, (3, 3), padding=1, padding_mode='reflect'), \n",
        "            # nn.SiLU(),\n",
        "            nn.Conv2d(256, 256, (3, 3), padding=1, padding_mode='reflect'), \n",
        "            nn.SiLU(),\n",
        "            nn.MaxPool2d((2, 2), stride=(2, 2)),\n",
        "        )\n",
        "         \n",
        "        self.decoder = nn.Sequential(         \n",
        "            nn.Upsample(scale_factor=2),\n",
        "            nn.Conv2d(256, 128, (3, 3), padding=1, padding_mode='reflect'),\n",
        "            nn.SiLU(),\n",
        "            nn.Upsample(scale_factor=2),\n",
        "            nn.Conv2d(128, 128, (3, 3), padding=1, padding_mode='reflect'),\n",
        "            nn.SiLU(),\n",
        "            nn.Upsample(scale_factor=2),\n",
        "            # nn.Conv2d(128, 128, (3, 3), padding=1, padding_mode='reflect'),\n",
        "            # nn.SiLU(),\n",
        "            nn.Conv2d(128, 128, (3, 3), padding=1, padding_mode='reflect'),\n",
        "            nn.SiLU(),\n",
        "            nn.Upsample(scale_factor=2),\n",
        "            nn.Conv2d(128, 96, (3, 3), padding=1, padding_mode='reflect'),\n",
        "            nn.SiLU(),\n",
        "            nn.Upsample(scale_factor=2),\n",
        "            nn.Conv2d(96, 64, (3, 3), padding=1, padding_mode='reflect'),\n",
        "            nn.SiLU(),\n",
        "            nn.Conv2d(64, 32, (3, 3), padding=1, padding_mode='reflect'),\n",
        "            nn.SiLU(),\n",
        "            nn.Conv2d(32, 1, (3, 3), padding=1, padding_mode='reflect'),\n",
        "            nn.Sigmoid()\n",
        "        )\n",
        "    \n",
        "    def forward(self, x):\n",
        "        h = self.encoder(x)\n",
        "        # h = torch.cat((h, x), 1)\n",
        "        h = self.decoder(h)\n",
        "        return h"
      ],
      "execution_count": null,
      "outputs": []
    },
    {
      "cell_type": "code",
      "metadata": {
        "id": "nR0NKjtsyg5R"
      },
      "source": [
        "model = Autoencoder_model().cuda()"
      ],
      "execution_count": null,
      "outputs": []
    },
    {
      "cell_type": "code",
      "metadata": {
        "id": "lqsm4QdzypgG"
      },
      "source": [
        "optimizer = torch.optim.Adam(model.parameters(), lr=0.0001)\n",
        "criterion = nn.MSELoss()"
      ],
      "execution_count": null,
      "outputs": []
    },
    {
      "cell_type": "code",
      "metadata": {
        "colab": {
          "base_uri": "https://localhost:8080/",
          "height": 811
        },
        "id": "ThE5H5Hdy4lt",
        "outputId": "1c711d2c-fa8d-4a5d-cf9e-6d90ee24b814"
      },
      "source": [
        "for epoch in range(3):\n",
        "    losses = []\n",
        "    for X, y in loader:\n",
        "        optimizer.zero_grad()\n",
        "        y_pred = model(X.cuda())\n",
        "        loss = criterion(y_pred, X.cuda())\n",
        "        # break\n",
        "        losses.append(loss.item())\n",
        "        loss.backward()\n",
        "        optimizer.step()\n",
        "    print(epoch, np.mean(losses))\n",
        "    plt.plot(losses)\n",
        "    plt.show()\n",
        "    "
      ],
      "execution_count": null,
      "outputs": [
        {
          "output_type": "stream",
          "text": [
            "0 0.0010606684371603145\n"
          ],
          "name": "stdout"
        },
        {
          "output_type": "display_data",
          "data": {
            "text/plain": [
              "<Figure size 432x288 with 1 Axes>"
            ],
            "image/png": "[encoded data removed]"
          },
          "metadata": {
            "tags": [],
            "needs_background": "light"
          }
        },
        {
          "output_type": "stream",
          "text": [
            "1 0.0008075036517528951\n"
          ],
          "name": "stdout"
        },
        {
          "output_type": "display_data",
          "data": {
            "text/plain": [
              "<Figure size 432x288 with 1 Axes>"
            ],
            "image/png": "[encoded data removed]"
          },
          "metadata": {
            "tags": [],
            "needs_background": "light"
          }
        },
        {
          "output_type": "stream",
          "text": [
            "2 0.0007847884925720488\n"
          ],
          "name": "stdout"
        },
        {
          "output_type": "display_data",
          "data": {
            "text/plain": [
              "<Figure size 432x288 with 1 Axes>"
            ],
            "image/png": "[encoded data removed]"
          },
          "metadata": {
            "tags": [],
            "needs_background": "light"
          }
        }
      ]
    },
    {
      "cell_type": "code",
      "metadata": {
        "colab": {
          "base_uri": "https://localhost:8080/",
          "height": 273
        },
        "id": "9Bk9OvCV8Q30",
        "outputId": "da264b56-2bc6-4129-c50b-d22da4d32075"
      },
      "source": [
        "transforms.ColorJitter(contrast=[3.0, 3.0])(transforms.CenterCrop((256, 256))(dataset.get_image(dataset_test[5][1]))) # ER 30 keV\n",
        "# transforms.ColorJitter(contrast=[5.0, 5.0])(transforms.CenterCrop((256, 256))(dataset.get_image(dataset_test[16][1]))) # HR 20 keV"
      ],
      "execution_count": null,
      "outputs": [
        {
          "output_type": "execute_result",
          "data": {
            "text/plain": [
              "<PIL.Image.Image image mode=L size=256x256 at 0x209978F6190>"
            ],
            "image/png": "[encoded data removed]"
          },
          "metadata": {
            "tags": []
          },
          "execution_count": 72
        }
      ]
    },
    {
      "cell_type": "code",
      "metadata": {
        "colab": {
          "base_uri": "https://localhost:8080/",
          "height": 273
        },
        "id": "U47xQGn5RvVN",
        "outputId": "6ae11ec6-974c-4ed2-d0c1-4a9ca10b32f4"
      },
      "source": [
        "transforms.ColorJitter(contrast=[3.0, 3.0])(transforms.CenterCrop((256, 256))(dataset.get_image(dataset_test[14][1]))) # ER 3 keV\n",
        "# transforms.ColorJitter(contrast=[5.0, 5.0])(transforms.CenterCrop((256, 256))(dataset.get_image(dataset_test[17][1]))) # HR 1 keV"
      ],
      "execution_count": null,
      "outputs": [
        {
          "output_type": "execute_result",
          "data": {
            "text/plain": [
              "<PIL.Image.Image image mode=L size=256x256 at 0x209978F8400>"
            ],
            "image/png": "[encoded data removed]"
          },
          "metadata": {
            "tags": []
          },
          "execution_count": 73
        }
      ]
    },
    {
      "cell_type": "code",
      "metadata": {
        "colab": {
          "base_uri": "https://localhost:8080/"
        },
        "id": "7DQrUb9TRddV",
        "outputId": "de97ad89-b9e5-4298-ea6c-f99f651d7e88"
      },
      "source": [
        "dataset.get_filename(dataset_test[17][1])"
      ],
      "execution_count": null,
      "outputs": [
        {
          "output_type": "execute_result",
          "data": {
            "text/plain": [
              "'idao_dataset\\\\train\\\\NR\\\\-1.4997999668121338__CYGNO_60_40_He_NR_1_keV_930V_30cm_SRIM_IDAO_iso_crop_hist_pic_run4_ev861;1.png'"
            ]
          },
          "metadata": {
            "tags": []
          },
          "execution_count": 69
        }
      ]
    },
    {
      "cell_type": "code",
      "metadata": {
        "colab": {
          "base_uri": "https://localhost:8080/"
        },
        "id": "k6bitcF280Wk",
        "outputId": "0eb1a22c-525a-42e7-d833-7cc60de97806"
      },
      "source": [
        "dataset_test[2][0]"
      ],
      "execution_count": null,
      "outputs": [
        {
          "output_type": "execute_result",
          "data": {
            "text/plain": [
              "tensor([[[0.3804, 0.4039, 0.4275,  ..., 0.3725, 0.3725, 0.4039],\n",
              "         [0.4275, 0.3725, 0.4667,  ..., 0.3490, 0.3961, 0.3647],\n",
              "         [0.4118, 0.3961, 0.4039,  ..., 0.3569, 0.4196, 0.3804],\n",
              "         ...,\n",
              "         [0.3804, 0.3961, 0.3804,  ..., 0.3569, 0.3961, 0.4196],\n",
              "         [0.4118, 0.3804, 0.4039,  ..., 0.4118, 0.2235, 0.3882],\n",
              "         [0.3647, 0.3961, 0.3804,  ..., 0.3176, 0.3647, 0.4039]]])"
            ]
          },
          "metadata": {
            "tags": []
          },
          "execution_count": 43
        }
      ]
    },
    {
      "cell_type": "code",
      "metadata": {
        "id": "3Ou7YDtc8ewy"
      },
      "source": [
        "X_test = dataset_test[5][0]\n",
        "y_test = model(X_test.view(1, 1, 256, 256).cuda())\n",
        "y_test = y_test.detach().cpu()"
      ],
      "execution_count": null,
      "outputs": []
    },
    {
      "cell_type": "code",
      "metadata": {
        "colab": {
          "base_uri": "https://localhost:8080/",
          "height": 273
        },
        "id": "CkoYE1zd87Sp",
        "outputId": "2f103818-1e33-4ade-9eee-409ba3f0c1bb"
      },
      "source": [
        "transforms.ToPILImage()(y_test.view(256, 256))"
      ],
      "execution_count": null,
      "outputs": [
        {
          "output_type": "execute_result",
          "data": {
            "text/plain": [
              "<PIL.Image.Image image mode=L size=256x256 at 0x2094746C1C0>"
            ],
            "image/png": "[encoded data removed]"
          },
          "metadata": {
            "tags": []
          },
          "execution_count": 45
        }
      ]
    },
    {
      "cell_type": "markdown",
      "metadata": {
        "id": "vtPPC7ErVZsg"
      },
      "source": [
        "# Conspect\n",
        "\n",
        "## Classifier\n",
        "\n",
        "* accuracy score: 0.9904153354632588 | auc-roc: 0.9991785422528818 - около 15 эпох простой модели с 4 содержательными сверточными слоями. Картинки без преобразований. (Adam, learning_rate = 0.001)\n",
        "* accuracy score: 0.9880686055182699 | auc-roc: 0.9993794069889005 - 19 эпох такой же модели, но теперь добавил увеличение контрастности изображения. Это помогло сети обучиться быстрее до приличного качества. (learning_rate = 0.0009 - ухудшает модель)\n",
        "\n",
        "## Regressor\n",
        "\n",
        "* mae: 2.8 - 10 эпох простой модели из 3х сверток со скейлингом, loss = MSE."
      ]
    },
    {
      "cell_type": "code",
      "metadata": {
        "colab": {
          "base_uri": "https://localhost:8080/"
        },
        "id": "DShtfqEsJHPo",
        "outputId": "51409ccc-44f9-46b3-9d41-3318f83460e3"
      },
      "source": [
        "Class_model = nn.Sequential(\n",
        "    nn.Conv2d(in_channels=1, out_channels=32, kernel_size=(3, 3), padding=1, padding_mode='reflect'),\n",
        "    nn.SiLU(),\n",
        "    nn.Dropout(p=0.1),\n",
        "    nn.Conv2d(in_channels=32, out_channels=64, kernel_size=(3, 3), padding=1, padding_mode='reflect'),\n",
        "    nn.SiLU(),\n",
        "    nn.Conv2d(in_channels=64, out_channels=16, kernel_size=(3, 3), padding=1, padding_mode='reflect'),\n",
        "    nn.SiLU(),\n",
        "    nn.Conv2d(in_channels=16, out_channels=16, kernel_size=(3, 3), padding=1, padding_mode='reflect'),\n",
        "    nn.SiLU(),\n",
        "    nn.Conv2d(in_channels=16, out_channels=2, kernel_size=(256, 256), padding=0, padding_mode='reflect'),\n",
        "    nn.LogSoftmax(dim=1)\n",
        "    ).cuda()\n",
        "\n",
        "class Reg_via_Class(nn.Module):\n",
        "    def __init__(self):\n",
        "        super().__init__()\n",
        "        \n",
        "        self.encoder = nn.Sequential(\n",
        "            nn.Conv2d(1, 64, (3, 3), padding=1, padding_mode='reflect'),\n",
        "            nn.SiLU(), \n",
        "            nn.Conv2d(64, 64, (3, 3), padding=1, padding_mode='reflect'),\n",
        "            nn.SiLU(), \n",
        "            nn.MaxPool2d((2, 2), stride=(2, 2)), # (*, 64, 128, 128)\n",
        "            nn.Conv2d(64, 128, (3, 3), padding=1, padding_mode='reflect'),\n",
        "            nn.SiLU(),\n",
        "            nn.AvgPool2d((2, 2), stride=(2, 2)), # (*, 128, 64, 64)\n",
        "            nn.Conv2d(128, 128, (3, 3), padding=1, padding_mode='reflect'),\n",
        "            nn.SiLU(),\n",
        "            nn.BatchNorm2d(128),\n",
        "            nn.Conv2d(128, 256, (5, 5), padding=2, padding_mode='reflect'), \n",
        "            nn.SiLU(),\n",
        "            nn.Conv2d(256, 256, (5, 5), padding=2, padding_mode='reflect'), \n",
        "            nn.SiLU(),\n",
        "            nn.MaxPool2d((2, 2), stride=(2, 2)), # (*, 256, 32, 32)\n",
        "            nn.Conv2d(256, 256, (5, 5), padding=2, padding_mode='reflect'), \n",
        "            nn.SiLU(),\n",
        "            nn.BatchNorm2d(256),\n",
        "            nn.Conv2d(256, 256, (5, 5), padding=2, padding_mode='reflect'), \n",
        "            nn.SiLU(),\n",
        "            nn.Dropout(0.1),\n",
        "            nn.Conv2d(256, 256, (5, 5), padding=2, padding_mode='reflect'), \n",
        "            nn.SiLU(),\n",
        "            nn.BatchNorm2d(256),\n",
        "            nn.Conv2d(256, 256, (5, 5), padding=2, padding_mode='reflect'), \n",
        "            nn.SiLU(),\n",
        "            nn.BatchNorm2d(256),\n",
        "            nn.Conv2d(256, 256, (3, 3), padding=1, padding_mode='reflect'), \n",
        "            nn.SiLU(),\n",
        "            nn.MaxPool2d((2, 2), stride=(2, 2)), # (*, 256, 16, 16)\n",
        "            nn.Conv2d(256, 256, (3, 3), padding=1, padding_mode='reflect'), \n",
        "            nn.SiLU(),\n",
        "            nn.MaxPool2d((2, 2), stride=(2, 2)), # (*, 256, 8, 8)\n",
        "            nn.Conv2d(256, 256, (3, 3), padding=1, padding_mode='reflect'), \n",
        "            nn.SiLU(),\n",
        "            nn.Dropout(0.1),\n",
        "            nn.MaxPool2d((2, 2), stride=(2, 2)), # (*, 256, 4, 4)\n",
        "            nn.Conv2d(256, 128, (3, 3), padding=1, padding_mode='reflect'), \n",
        "            nn.SiLU(),\n",
        "            nn.Conv2d(128, 64, (3, 3), padding=1, padding_mode='reflect'), \n",
        "            nn.SiLU(),\n",
        "            # nn.MaxPool2d((2, 2), stride=(2, 2)), # (*, 64, 2, 2)\n",
        "            nn.Conv2d(64, 64, (3, 3), padding=1, padding_mode='reflect'), \n",
        "            nn.SiLU(),\n",
        "            nn.Conv2d(64, 32, (3, 3), padding=1, padding_mode='reflect'), \n",
        "            nn.SiLU(),\n",
        "            nn.Conv2d(32, 6, (4, 4), padding=0, padding_mode='reflect'),\n",
        "            # nn.MaxPool2d((2, 2), stride=(2, 2)), # (*, 4, 1, 1)\n",
        "            nn.LogSoftmax(dim=1),\n",
        "        )\n",
        "    \n",
        "    def forward(self, x):\n",
        "        h = self.encoder(x)\n",
        "        # h = torch.cat((h, x), 1)\n",
        "        return h\n",
        "\n",
        "\n",
        "model_reg = Reg_via_Class().cuda()\n",
        "model_reg.load_state_dict(torch.load('C:\\\\Users\\\\Timofey\\\\Reg_via_class_idao_3.pth'))\n",
        "model_reg.eval()\n",
        "Class_model.load_state_dict(torch.load('C:\\\\Users\\\\Timofey\\\\class_idao_2.pth'))\n",
        "Class_model.eval()"
      ],
      "execution_count": null,
      "outputs": [
        {
          "output_type": "execute_result",
          "data": {
            "text/plain": [
              "Sequential(\n",
              "  (0): Conv2d(1, 32, kernel_size=(3, 3), stride=(1, 1), padding=(1, 1), padding_mode=reflect)\n",
              "  (1): SiLU()\n",
              "  (2): Dropout(p=0.1, inplace=False)\n",
              "  (3): Conv2d(32, 64, kernel_size=(3, 3), stride=(1, 1), padding=(1, 1), padding_mode=reflect)\n",
              "  (4): SiLU()\n",
              "  (5): Conv2d(64, 16, kernel_size=(3, 3), stride=(1, 1), padding=(1, 1), padding_mode=reflect)\n",
              "  (6): SiLU()\n",
              "  (7): Conv2d(16, 16, kernel_size=(3, 3), stride=(1, 1), padding=(1, 1), padding_mode=reflect)\n",
              "  (8): SiLU()\n",
              "  (9): Conv2d(16, 2, kernel_size=(256, 256), stride=(1, 1), padding_mode=reflect)\n",
              "  (10): LogSoftmax(dim=1)\n",
              ")"
            ]
          },
          "metadata": {
            "tags": []
          },
          "execution_count": 12
        }
      ]
    },
    {
      "cell_type": "code",
      "metadata": {
        "colab": {
          "base_uri": "https://localhost:8080/",
          "height": 47
        },
        "id": "90OfZPX9JJU8",
        "outputId": "9ed632af-0016-4a7a-d90d-3dda285c70ab"
      },
      "source": [
        "import pandas as pd\n",
        "res = pd.DataFrame(columns=['id','classification_predictions','regression_predictions'])\n",
        "res"
      ],
      "execution_count": null,
      "outputs": [
        {
          "output_type": "execute_result",
          "data": {
            "text/plain": [
              "Empty DataFrame\n",
              "Columns: [id, classification_predictions, regression_predictions]\n",
              "Index: []"
            ],
            "text/html": [
              "<div>\n",
              "<style scoped>\n",
              "    .dataframe tbody tr th:only-of-type {\n",
              "        vertical-align: middle;\n",
              "    }\n",
              "\n",
              "    .dataframe tbody tr th {\n",
              "        vertical-align: top;\n",
              "    }\n",
              "\n",
              "    .dataframe thead th {\n",
              "        text-align: right;\n",
              "    }\n",
              "</style>\n",
              "<table border=\"1\" class=\"dataframe\">\n",
              "  <thead>\n",
              "    <tr style=\"text-align: right;\">\n",
              "      <th></th>\n",
              "      <th>id</th>\n",
              "      <th>classification_predictions</th>\n",
              "      <th>regression_predictions</th>\n",
              "    </tr>\n",
              "  </thead>\n",
              "  <tbody>\n",
              "  </tbody>\n",
              "</table>\n",
              "</div>"
            ]
          },
          "metadata": {
            "tags": []
          },
          "execution_count": 13
        }
      ]
    },
    {
      "cell_type": "code",
      "metadata": {
        "colab": {
          "base_uri": "https://localhost:8080/"
        },
        "id": "aGku1Q7YKr30",
        "outputId": "d3256f5e-73ce-464e-acf9-db3a8c9cdc1d"
      },
      "source": [
        "cnt = 0\n",
        "names = []\n",
        "classes = []\n",
        "regress = []\n",
        "for X, y in tqdm(loader_test):\n",
        "    predicted_class = Class_model(X.cuda())\n",
        "    predicted_reg = model_reg(X.cuda()).detach().view(-1, 6)\n",
        "    # print(predicted_class)\n",
        "    # print((predicted_class.detach().cpu().view(-1, 2)[:, 1].numpy() - predicted_class.detach().cpu().view(-1, 2)[:, 0].numpy()))\n",
        "    pred_cl = (predicted_class.detach().cpu().view(-1, 2)[:, 1].numpy() - predicted_class.detach().cpu().view(-1, 2)[:, 0].numpy())\n",
        "    for i in range(len(y)):\n",
        "        _name = dataset_test.get_filename(y[i])\n",
        "        names.append(_name.split('\\\\')[-1].split('.')[0])\n",
        "        classes.append(pred_cl[i])\n",
        "        regress.append(kev_inverse_transform(predicted_reg[i].argmax().item()))"
      ],
      "execution_count": null,
      "outputs": [
        {
          "output_type": "stream",
          "text": [
            "100%|██████████████████████████████████████████████████████████████████████████████| 2070/2070 [05:41<00:00,  6.07it/s]\n"
          ],
          "name": "stderr"
        }
      ]
    },
    {
      "cell_type": "code",
      "metadata": {
        "colab": {
          "base_uri": "https://localhost:8080/"
        },
        "id": "1ilKft4gEL3B",
        "outputId": "ae2bc418-494a-48d4-b346-8bca4fe15760"
      },
      "source": [
        "classes_np = np.array(classes)\n",
        "classes_np -= np.min(classes_np)\n",
        "mx = np.max(classes_np) + 2\n",
        "print(mx)\n",
        "classes_np /= mx\n",
        "classes"
      ],
      "execution_count": null,
      "outputs": [
        {
          "output_type": "stream",
          "text": [
            "1066.771728515625\n"
          ],
          "name": "stdout"
        },
        {
          "output_type": "execute_result",
          "data": {
            "text/plain": [
              "[-53.203705,\n",
              " -131.33548,\n",
              " -5.008401,\n",
              " 13.402054,\n",
              " -6.373686,\n",
              " -22.61243,\n",
              " -48.612988,\n",
              " 15.6326885,\n",
              " -3.522111,\n",
              " -159.24908,\n",
              " 9.402027,\n",
              " 10.440908,\n",
              " 2.5224998,\n",
              " -9.815416,\n",
              " -40.74845,\n",
              " 21.725273,\n",
              " -305.98944,\n",
              " -280.2185,\n",
              " -398.27606,\n",
              " 3.1765423,\n",
              " 11.623511,\n",
              " 3.7383714,\n",
              " -583.2445,\n",
              " 20.508276,\n",
              " -122.826645,\n",
              " -9.877887,\n",
              " -0.6040416,\n",
              " -39.545418,\n",
              " 3.4020534,\n",
              " 12.375378,\n",
              " -12.4686775,\n",
              " 4.0739007,\n",
              " -22.840424,\n",
              " 11.548605,\n",
              " -467.64313,\n",
              " -204.70386,\n",
              " -319.4458,\n",
              " -49.340523,\n",
              " -53.677258,\n",
              " 5.959961,\n",
              " 15.033629,\n",
              " 8.738552,\n",
              " 3.0800838,\n",
              " 6.131564,\n",
              " 13.574363,\n",
              " -44.900852,\n",
              " -1.1732116,\n",
              " 19.73363,\n",
              " 12.063641,\n",
              " -1.8285189,\n",
              " 21.346521,\n",
              " -580.3758,\n",
              " 6.8177433,\n",
              " -3.4643703,\n",
              " 11.769508,\n",
              " -8.354874,\n",
              " -32.484108,\n",
              " -58.217632,\n",
              " -1.2295456,\n",
              " -61.95923,\n",
              " 11.057935,\n",
              " -4.431042,\n",
              " 1.9227241,\n",
              " 2.0487962,\n",
              " -12.522116,\n",
              " 11.058496,\n",
              " 17.408802,\n",
              " -607.03754,\n",
              " 6.078636,\n",
              " 8.374588,\n",
              " 3.5935411,\n",
              " -48.02168,\n",
              " 3.4641352,\n",
              " 14.710305,\n",
              " -64.26258,\n",
              " 11.4686575,\n",
              " 14.861044,\n",
              " 8.688465,\n",
              " 1.3797747,\n",
              " 1.8714092,\n",
              " 12.345861,\n",
              " -32.37556,\n",
              " 18.953033,\n",
              " -25.327076,\n",
              " 9.250211,\n",
              " 24.178944,\n",
              " 23.348988,\n",
              " 4.3881493,\n",
              " 1.5173466,\n",
              " 6.850322,\n",
              " -2.685419,\n",
              " 18.61951,\n",
              " 6.262073,\n",
              " -51.928738,\n",
              " 20.910496,\n",
              " 0.74814856,\n",
              " 14.011001,\n",
              " -451.216,\n",
              " 35.316673,\n",
              " 12.1091175,\n",
              " 1.9710827,\n",
              " 2.7016335,\n",
              " 21.744179,\n",
              " 17.855446,\n",
              " 1.5919719,\n",
              " 0.9481535,\n",
              " -50.148262,\n",
              " 11.104065,\n",
              " -13.584324,\n",
              " -14.895798,\n",
              " 3.3803177,\n",
              " 21.782307,\n",
              " 3.664832,\n",
              " 15.66243,\n",
              " -16.796673,\n",
              " 15.872765,\n",
              " -505.95776,\n",
              " -169.16072,\n",
              " -67.87264,\n",
              " 10.564923,\n",
              " -18.669521,\n",
              " 12.613836,\n",
              " -58.397266,\n",
              " -12.136286,\n",
              " -9.421797,\n",
              " -269.6638,\n",
              " 3.5098944,\n",
              " -471.67816,\n",
              " -210.68393,\n",
              " -2.358292,\n",
              " -71.91603,\n",
              " 13.139397,\n",
              " 11.171564,\n",
              " 4.902924,\n",
              " -31.559406,\n",
              " 7.630208,\n",
              " -0.79354393,\n",
              " 8.908182,\n",
              " -24.529888,\n",
              " 10.020853,\n",
              " -42.35882,\n",
              " 17.399742,\n",
              " -287.3002,\n",
              " 10.102456,\n",
              " -5.145586,\n",
              " 36.95702,\n",
              " -136.34053,\n",
              " -5.4203787,\n",
              " 11.045624,\n",
              " -14.015968,\n",
              " 18.532894,\n",
              " 2.567453,\n",
              " 22.811676,\n",
              " -1.0961072,\n",
              " -1.145915,\n",
              " -1.5920463,\n",
              " 21.871868,\n",
              " 7.749914,\n",
              " 24.113783,\n",
              " -56.369377,\n",
              " 18.61876,\n",
              " 23.035631,\n",
              " -40.37207,\n",
              " 3.9398875,\n",
              " -10.53962,\n",
              " -15.401415,\n",
              " -40.331577,\n",
              " -0.8634837,\n",
              " -7.6448097,\n",
              " -1.5963562,\n",
              " -3.4896016,\n",
              " -69.873085,\n",
              " -284.40564,\n",
              " 13.079959,\n",
              " 15.418243,\n",
              " -157.02475,\n",
              " 23.418358,\n",
              " -20.795418,\n",
              " 19.976955,\n",
              " 12.433136,\n",
              " -0.8739606,\n",
              " -55.851673,\n",
              " 6.169449,\n",
              " -19.545479,\n",
              " -159.18498,\n",
              " -56.198288,\n",
              " 21.017513,\n",
              " -394.3321,\n",
              " -462.1151,\n",
              " 22.469604,\n",
              " 27.130672,\n",
              " -21.49538,\n",
              " 18.009666,\n",
              " -429.40155,\n",
              " -156.76874,\n",
              " -10.401849,\n",
              " 3.1611385,\n",
              " 4.376361,\n",
              " -5.804128,\n",
              " -30.321442,\n",
              " -581.3834,\n",
              " -30.760548,\n",
              " -56.80435,\n",
              " -150.99866,\n",
              " 6.6811266,\n",
              " -472.52783,\n",
              " 14.51984,\n",
              " 0.5686178,\n",
              " 15.097999,\n",
              " -130.92654,\n",
              " 19.002895,\n",
              " -191.28017,\n",
              " 11.476427,\n",
              " 0.18428749,\n",
              " -39.267036,\n",
              " -476.7845,\n",
              " 12.376735,\n",
              " -227.0621,\n",
              " -0.9526161,\n",
              " -170.03549,\n",
              " 18.229616,\n",
              " -590.63,\n",
              " -51.878296,\n",
              " 15.384106,\n",
              " -50.53404,\n",
              " 6.6076584,\n",
              " 10.942217,\n",
              " -49.835533,\n",
              " 17.091679,\n",
              " -0.8250034,\n",
              " 18.172096,\n",
              " 6.886305,\n",
              " 17.79512,\n",
              " -41.635025,\n",
              " -35.94358,\n",
              " 25.87669,\n",
              " 13.635567,\n",
              " 1.7966826,\n",
              " 3.2354205,\n",
              " 4.5813427,\n",
              " 7.7456036,\n",
              " 12.380774,\n",
              " 13.29505,\n",
              " 7.2740974,\n",
              " -202.88068,\n",
              " 11.775824,\n",
              " -7.92715,\n",
              " 16.991951,\n",
              " 7.2151546,\n",
              " 17.564455,\n",
              " 6.4952164,\n",
              " 14.568696,\n",
              " 19.978552,\n",
              " -372.1505,\n",
              " -57.720238,\n",
              " -61.181,\n",
              " 23.808224,\n",
              " -64.39612,\n",
              " 14.032415,\n",
              " -57.66585,\n",
              " -293.03412,\n",
              " 9.83955,\n",
              " -62.956738,\n",
              " -64.17604,\n",
              " -50.94196,\n",
              " -388.68762,\n",
              " 5.9766407,\n",
              " 0.8850755,\n",
              " -8.469387,\n",
              " 5.318966,\n",
              " 9.713316,\n",
              " -541.6536,\n",
              " -232.28918,\n",
              " -32.304474,\n",
              " 14.384349,\n",
              " -2.5402267,\n",
              " 1.9883246,\n",
              " -6.150792,\n",
              " 3.9445212,\n",
              " 4.2813168,\n",
              " -47.71157,\n",
              " -21.902966,\n",
              " 9.203487,\n",
              " 4.059413,\n",
              " 18.841927,\n",
              " -1.8082516,\n",
              " -7.4307785,\n",
              " -137.45987,\n",
              " 22.632156,\n",
              " -5.751027,\n",
              " -0.98195547,\n",
              " 10.688488,\n",
              " 7.7772818,\n",
              " 14.579313,\n",
              " 17.962616,\n",
              " -278.55307,\n",
              " -1.5760214,\n",
              " -234.91812,\n",
              " -4.5766635,\n",
              " -28.985863,\n",
              " 19.161722,\n",
              " -493.58472,\n",
              " -35.000526,\n",
              " 2.5604315,\n",
              " -2.38771,\n",
              " 1.394517,\n",
              " 12.16324,\n",
              " -0.43420163,\n",
              " -42.510513,\n",
              " -50.258217,\n",
              " -74.70503,\n",
              " -48.803238,\n",
              " -20.221294,\n",
              " -67.84013,\n",
              " 14.128849,\n",
              " 11.801247,\n",
              " -1.9959507,\n",
              " 2.3732777,\n",
              " 21.608196,\n",
              " -2.8719296,\n",
              " 18.325634,\n",
              " 6.485362,\n",
              " -129.66313,\n",
              " -254.99704,\n",
              " 9.422193,\n",
              " -59.85695,\n",
              " -598.9813,\n",
              " -242.14395,\n",
              " -32.10295,\n",
              " -312.0282,\n",
              " 14.611006,\n",
              " 9.98487,\n",
              " -36.27485,\n",
              " -26.895365,\n",
              " -38.387302,\n",
              " -97.9994,\n",
              " -4.7348022,\n",
              " 4.5943766,\n",
              " -274.3366,\n",
              " -359.38135,\n",
              " -463.0028,\n",
              " 22.546238,\n",
              " 15.431053,\n",
              " -16.129269,\n",
              " 1.0569713,\n",
              " 16.653023,\n",
              " 18.863201,\n",
              " 6.595602,\n",
              " 16.364468,\n",
              " 2.7558103,\n",
              " -5.5928993,\n",
              " 7.1383033,\n",
              " 1.6675755,\n",
              " -0.92871237,\n",
              " 14.860352,\n",
              " 10.030811,\n",
              " 12.729795,\n",
              " -26.055943,\n",
              " 15.511821,\n",
              " 24.222038,\n",
              " -62.43261,\n",
              " -3.0679007,\n",
              " 4.425215,\n",
              " 9.954442,\n",
              " 27.736454,\n",
              " -201.29343,\n",
              " 5.6921015,\n",
              " -55.98309,\n",
              " -20.849316,\n",
              " 12.359277,\n",
              " -116.966805,\n",
              " -63.571182,\n",
              " -7.296353,\n",
              " -51.939026,\n",
              " 10.907,\n",
              " 2.356731,\n",
              " 2.2665882,\n",
              " 3.444978,\n",
              " -12.454597,\n",
              " -45.899258,\n",
              " 19.815426,\n",
              " 10.973261,\n",
              " -42.851242,\n",
              " 2.69731,\n",
              " -34.12745,\n",
              " -38.148827,\n",
              " -282.20624,\n",
              " -157.41043,\n",
              " 21.561665,\n",
              " -74.4651,\n",
              " 23.21352,\n",
              " 11.088739,\n",
              " -0.27627254,\n",
              " -5.2174025,\n",
              " -572.9209,\n",
              " 8.2494755,\n",
              " -464.9805,\n",
              " 18.318747,\n",
              " -245.78683,\n",
              " 13.786282,\n",
              " 1.6287986,\n",
              " -50.13659,\n",
              " 12.571856,\n",
              " 14.116027,\n",
              " -9.870624,\n",
              " -2.0598826,\n",
              " -290.839,\n",
              " 21.605055,\n",
              " 23.423855,\n",
              " -48.31221,\n",
              " -228.40872,\n",
              " 13.404921,\n",
              " 1.8966166,\n",
              " 19.11544,\n",
              " -148.55133,\n",
              " 11.659687,\n",
              " 4.204274,\n",
              " -53.07148,\n",
              " -47.549904,\n",
              " 19.331345,\n",
              " 22.402756,\n",
              " -34.926914,\n",
              " -119.64787,\n",
              " -52.386242,\n",
              " 16.694286,\n",
              " 22.267767,\n",
              " 12.583092,\n",
              " -8.376527,\n",
              " -63.145393,\n",
              " -3.3078148,\n",
              " 2.0479722,\n",
              " -386.93207,\n",
              " -3.6052217,\n",
              " 21.90149,\n",
              " -268.18317,\n",
              " 0.82370055,\n",
              " 2.9860106,\n",
              " 13.616243,\n",
              " -174.08734,\n",
              " 13.948631,\n",
              " 25.17913,\n",
              " -26.59127,\n",
              " -59.19912,\n",
              " -51.8602,\n",
              " 33.07263,\n",
              " -622.3638,\n",
              " 10.138005,\n",
              " 21.36816,\n",
              " 3.8791986,\n",
              " -60.316696,\n",
              " -287.46606,\n",
              " 15.701029,\n",
              " -411.50308,\n",
              " -28.055044,\n",
              " 16.104364,\n",
              " -132.34108,\n",
              " 10.440113,\n",
              " 11.133863,\n",
              " -15.999402,\n",
              " 2.3798661,\n",
              " -11.056456,\n",
              " -463.4122,\n",
              " -41.382507,\n",
              " -50.409485,\n",
              " 0.4129718,\n",
              " 23.950226,\n",
              " -112.19544,\n",
              " -7.9498816,\n",
              " 16.071123,\n",
              " 2.1540275,\n",
              " 13.264641,\n",
              " -94.1632,\n",
              " 9.89216,\n",
              " -470.70587,\n",
              " 11.304083,\n",
              " 0.4709856,\n",
              " -31.135445,\n",
              " 2.7801113,\n",
              " 12.62163,\n",
              " -3.2428823,\n",
              " 14.54357,\n",
              " -433.91174,\n",
              " 12.430745,\n",
              " 20.601631,\n",
              " 10.535649,\n",
              " -51.925915,\n",
              " 17.213993,\n",
              " -48.21954,\n",
              " -37.89576,\n",
              " -30.148682,\n",
              " -53.06795,\n",
              " 6.8452883,\n",
              " 7.253959,\n",
              " 20.237099,\n",
              " -12.059993,\n",
              " -12.303889,\n",
              " 4.669224,\n",
              " -67.1622,\n",
              " 18.577696,\n",
              " -20.399944,\n",
              " -60.607063,\n",
              " -3.0844128,\n",
              " -3.7135115,\n",
              " -183.44055,\n",
              " -4.474038,\n",
              " 15.288106,\n",
              " -46.520386,\n",
              " 12.707517,\n",
              " -12.932737,\n",
              " -164.31122,\n",
              " -57.617188,\n",
              " 1.9968193,\n",
              " 14.764244,\n",
              " 5.517164,\n",
              " -364.7282,\n",
              " -223.7575,\n",
              " 24.334557,\n",
              " 9.034433,\n",
              " 0.32314068,\n",
              " -4.790554,\n",
              " -41.51686,\n",
              " 23.95538,\n",
              " -64.35448,\n",
              " -53.53173,\n",
              " -34.010406,\n",
              " -138.92519,\n",
              " 19.142597,\n",
              " 12.634824,\n",
              " -54.014717,\n",
              " -24.397236,\n",
              " 4.037765,\n",
              " -600.63184,\n",
              " -20.88602,\n",
              " -13.66662,\n",
              " -59.058342,\n",
              " 15.0557575,\n",
              " -56.183388,\n",
              " -10.299477,\n",
              " 8.981743,\n",
              " 4.4440784,\n",
              " -53.515934,\n",
              " 13.059251,\n",
              " -543.4845,\n",
              " -0.003163457,\n",
              " 2.868632,\n",
              " -6.3675776,\n",
              " 15.210716,\n",
              " 2.3201947,\n",
              " 20.321877,\n",
              " 0.43740574,\n",
              " 16.406963,\n",
              " -425.6637,\n",
              " 0.90681016,\n",
              " 4.3191733,\n",
              " -13.584528,\n",
              " -2.5877552,\n",
              " -4.134494,\n",
              " -68.17797,\n",
              " 3.8809614,\n",
              " 4.6581984,\n",
              " 12.707188,\n",
              " -548.2356,\n",
              " 18.077408,\n",
              " 4.6956205,\n",
              " 9.880221,\n",
              " -187.84933,\n",
              " 21.350872,\n",
              " 20.255003,\n",
              " 17.616142,\n",
              " -247.86548,\n",
              " -61.736946,\n",
              " -6.577908,\n",
              " 30.907717,\n",
              " -38.64411,\n",
              " 2.2124267,\n",
              " -387.27615,\n",
              " -11.255674,\n",
              " 16.51959,\n",
              " 12.175007,\n",
              " 3.9541965,\n",
              " -37.018593,\n",
              " -66.01758,\n",
              " 12.655368,\n",
              " -59.18008,\n",
              " -54.210686,\n",
              " -357.00598,\n",
              " -39.739555,\n",
              " -31.256065,\n",
              " 19.501122,\n",
              " -54.27476,\n",
              " 21.701391,\n",
              " 16.373959,\n",
              " 11.790495,\n",
              " -607.38,\n",
              " -58.189938,\n",
              " -71.86011,\n",
              " 16.95403,\n",
              " -58.963287,\n",
              " 10.318088,\n",
              " 13.346195,\n",
              " 20.42708,\n",
              " -414.2519,\n",
              " -1.8603424,\n",
              " 15.251177,\n",
              " 12.831808,\n",
              " 16.497845,\n",
              " -1.2852714,\n",
              " 14.605114,\n",
              " 0.6802707,\n",
              " -28.662205,\n",
              " -100.07707,\n",
              " 2.830975,\n",
              " -59.41703,\n",
              " 3.6492107,\n",
              " -24.05186,\n",
              " -19.236597,\n",
              " -0.5708369,\n",
              " -7.295699,\n",
              " 16.848969,\n",
              " -73.49586,\n",
              " 7.749547,\n",
              " 6.1600733,\n",
              " -579.26,\n",
              " -67.26973,\n",
              " -55.65555,\n",
              " 11.277671,\n",
              " 17.978561,\n",
              " -282.12427,\n",
              " -0.2885136,\n",
              " -682.88525,\n",
              " 15.6762085,\n",
              " -60.209915,\n",
              " 22.261503,\n",
              " -50.243507,\n",
              " -57.25019,\n",
              " -22.186058,\n",
              " 6.158544,\n",
              " 17.160828,\n",
              " -510.97174,\n",
              " -11.886828,\n",
              " -198.07602,\n",
              " -432.7646,\n",
              " -204.43077,\n",
              " -5.874748,\n",
              " -42.132393,\n",
              " 16.58002,\n",
              " 14.426479,\n",
              " -695.99475,\n",
              " 2.5399947,\n",
              " 22.838608,\n",
              " 0.69718385,\n",
              " 4.3206396,\n",
              " -42.717857,\n",
              " -56.539116,\n",
              " -70.3835,\n",
              " -53.325672,\n",
              " -453.08917,\n",
              " 7.183658,\n",
              " -54.98535,\n",
              " 4.119225,\n",
              " 18.124634,\n",
              " -38.478138,\n",
              " -189.91591,\n",
              " 4.6776867,\n",
              " 7.0688562,\n",
              " 1.2361755,\n",
              " -70.47366,\n",
              " -349.56842,\n",
              " -8.26762,\n",
              " -7.050889,\n",
              " -50.194183,\n",
              " -37.515297,\n",
              " -23.232624,\n",
              " 9.066721,\n",
              " -136.63199,\n",
              " -6.0228167,\n",
              " -28.195826,\n",
              " -42.210114,\n",
              " 25.377407,\n",
              " -1.1286166,\n",
              " -52.532135,\n",
              " 7.1656985,\n",
              " -4.092211,\n",
              " -49.180668,\n",
              " 10.691157,\n",
              " -112.93604,\n",
              " 2.8934972,\n",
              " 10.988552,\n",
              " -55.95607,\n",
              " -1.3240068,\n",
              " -5.6318493,\n",
              " 0.21069151,\n",
              " -46.473698,\n",
              " 23.637745,\n",
              " 5.5322905,\n",
              " 3.0108323,\n",
              " -4.9108267,\n",
              " -119.943054,\n",
              " -55.363884,\n",
              " 1.1876929,\n",
              " -24.960487,\n",
              " -12.246898,\n",
              " 7.2464294,\n",
              " -0.8594555,\n",
              " 28.428806,\n",
              " 19.470127,\n",
              " -1.628695,\n",
              " 1.607871,\n",
              " -332.22778,\n",
              " -5.2908325,\n",
              " 9.490118,\n",
              " 5.5972652,\n",
              " -53.533028,\n",
              " 6.671253,\n",
              " 2.3078933,\n",
              " -455.36658,\n",
              " -52.95263,\n",
              " 8.054143,\n",
              " 19.536102,\n",
              " -62.973297,\n",
              " 10.261036,\n",
              " -59.249977,\n",
              " -51.0103,\n",
              " 1.3492379,\n",
              " 0.2559355,\n",
              " -54.82743,\n",
              " 0.6194272,\n",
              " 10.517989,\n",
              " -68.193245,\n",
              " -1.9227879,\n",
              " -40.43198,\n",
              " -536.006,\n",
              " 13.690947,\n",
              " 16.321655,\n",
              " -39.30829,\n",
              " -186.21527,\n",
              " -3.1526594,\n",
              " 2.2259874,\n",
              " -62.06761,\n",
              " 10.030771,\n",
              " 14.4651575,\n",
              " -66.8378,\n",
              " -9.402742,\n",
              " -51.95864,\n",
              " -5.6640744,\n",
              " 5.943824,\n",
              " -0.12842214,\n",
              " 12.089041,\n",
              " 19.40469,\n",
              " -410.4773,\n",
              " -55.610344,\n",
              " -168.84204,\n",
              " 5.684827,\n",
              " 15.390562,\n",
              " 7.0857224,\n",
              " -92.61364,\n",
              " 19.528303,\n",
              " -189.70335,\n",
              " 15.098797,\n",
              " -160.80754,\n",
              " -227.25014,\n",
              " -45.064873,\n",
              " 9.564332,\n",
              " -0.62114817,\n",
              " 19.535645,\n",
              " -29.430534,\n",
              " 16.721493,\n",
              " 19.69749,\n",
              " 12.63447,\n",
              " 14.359024,\n",
              " 27.18322,\n",
              " -0.43591928,\n",
              " 21.153952,\n",
              " -2.9487352,\n",
              " -50.997864,\n",
              " 5.0850368,\n",
              " 8.894693,\n",
              " 17.619059,\n",
              " 14.730845,\n",
              " -0.16193938,\n",
              " -183.01807,\n",
              " -15.266244,\n",
              " -67.335724,\n",
              " 2.716823,\n",
              " 30.965847,\n",
              " -46.000366,\n",
              " 7.2800303,\n",
              " 5.271138,\n",
              " -551.4458,\n",
              " -129.44745,\n",
              " 2.5039203,\n",
              " -6.2029047,\n",
              " -49.259926,\n",
              " 17.102562,\n",
              " -87.65185,\n",
              " -40.911552,\n",
              " -57.00833,\n",
              " 29.682526,\n",
              " -11.094212,\n",
              " 14.45554,\n",
              " 2.0104976,\n",
              " -48.085876,\n",
              " -46.900383,\n",
              " -46.81668,\n",
              " -56.115543,\n",
              " 2.3719325,\n",
              " -244.137,\n",
              " 6.6555176,\n",
              " -135.3494,\n",
              " 6.101421,\n",
              " -2.525033,\n",
              " 14.597702,\n",
              " 2.0354085,\n",
              " 3.4807856,\n",
              " 9.736162,\n",
              " 2.988304,\n",
              " 20.26603,\n",
              " -14.336676,\n",
              " 2.2118924,\n",
              " -258.99078,\n",
              " 15.33669,\n",
              " 17.04393,\n",
              " -45.35467,\n",
              " -3.6808147,\n",
              " -269.48984,\n",
              " 17.442898,\n",
              " 24.393036,\n",
              " -48.376476,\n",
              " 7.235285,\n",
              " -186.82552,\n",
              " -43.19747,\n",
              " 12.869387,\n",
              " -40.024017,\n",
              " -3.1327226,\n",
              " 9.734013,\n",
              " -468.44656,\n",
              " -84.829025,\n",
              " 1.7725346,\n",
              " 21.08957,\n",
              " 24.358906,\n",
              " -158.63107,\n",
              " -24.376705,\n",
              " -301.86774,\n",
              " 5.792509,\n",
              " -14.39585,\n",
              " -569.2799,\n",
              " 5.4982104,\n",
              " -39.792633,\n",
              " 20.757162,\n",
              " -36.149277,\n",
              " -28.06417,\n",
              " -48.57902,\n",
              " 18.567692,\n",
              " -6.7774653,\n",
              " -64.41498,\n",
              " 4.188591,\n",
              " -87.80036,\n",
              " -1.3180242,\n",
              " -41.703133,\n",
              " -214.1563,\n",
              " -79.67293,\n",
              " -59.82361,\n",
              " 10.081204,\n",
              " -5.919218,\n",
              " -54.507988,\n",
              " 20.349453,\n",
              " 18.010418,\n",
              " 16.073532,\n",
              " 9.127964,\n",
              " -6.830187,\n",
              " -52.678036,\n",
              " -511.07727,\n",
              " 2.50033,\n",
              " 11.697936,\n",
              " 18.815472,\n",
              " 23.83724,\n",
              " 0.7736546,\n",
              " 12.766288,\n",
              " -61.814598,\n",
              " 3.6782908,\n",
              " 12.815611,\n",
              " 2.223115,\n",
              " 7.045394,\n",
              " -78.3018,\n",
              " -66.89444,\n",
              " -401.7915,\n",
              " 7.26157,\n",
              " -64.15662,\n",
              " 9.813743,\n",
              " 3.3562307,\n",
              " -14.914706,\n",
              " 14.698965,\n",
              " -301.91748,\n",
              " -39.063583,\n",
              " 16.60508,\n",
              " 9.572473,\n",
              " 1.6857133,\n",
              " -23.275696,\n",
              " -78.84969,\n",
              " 19.184994,\n",
              " 15.248745,\n",
              " -53.20446,\n",
              " -584.51855,\n",
              " -29.552032,\n",
              " 6.266285,\n",
              " 14.35955,\n",
              " 14.149728,\n",
              " 15.817587,\n",
              " 6.1871576,\n",
              " -48.814514,\n",
              " -163.03568,\n",
              " 1.9478738,\n",
              " -10.319771,\n",
              " -389.49457,\n",
              " -52.314926,\n",
              " 7.9087057,\n",
              " -43.156372,\n",
              " -136.12009,\n",
              " -62.72947,\n",
              " 15.929562,\n",
              " -149.37604,\n",
              " 5.432641,\n",
              " -130.28522,\n",
              " -62.956604,\n",
              " -146.04114,\n",
              " -45.677048,\n",
              " -37.51825,\n",
              " 9.209414,\n",
              " 15.136469,\n",
              " -375.82886,\n",
              " -14.858553,\n",
              " 8.352131,\n",
              " -3.5101204,\n",
              " -1.4882281,\n",
              " 1.3789877,\n",
              " 6.5186424,\n",
              " -49.639313,\n",
              " -401.53345,\n",
              " -29.74501,\n",
              " 11.453783,\n",
              " -247.24644,\n",
              " -16.45444,\n",
              " 6.7055154,\n",
              " 4.3416567,\n",
              " 13.801659,\n",
              " -284.14075,\n",
              " -261.90887,\n",
              " 16.663273,\n",
              " -43.921017,\n",
              " -23.03169,\n",
              " 12.661398,\n",
              " 8.084436,\n",
              " -55.153454,\n",
              " -4.6098313,\n",
              " 8.631646,\n",
              " -37.02665,\n",
              " -53.596375,\n",
              " 7.550682,\n",
              " -17.331379,\n",
              " 12.735954,\n",
              " -39.586693,\n",
              " 22.08746,\n",
              " -177.51056,\n",
              " -19.138924,\n",
              " 17.294672,\n",
              " -44.24111,\n",
              " -268.12494,\n",
              " -236.8689,\n",
              " -155.24316,\n",
              " 6.631865,\n",
              " -8.074028,\n",
              " -0.6433053,\n",
              " -63.867096,\n",
              " -61.39359,\n",
              " -15.350432,\n",
              " 2.0218112,\n",
              " -1.1647753,\n",
              " -37.21246,\n",
              " -48.766487,\n",
              " 14.234697,\n",
              " 26.27538,\n",
              " 21.864769,\n",
              " 3.6629152,\n",
              " 21.200344,\n",
              " 20.408659,\n",
              " -58.59246,\n",
              " -6.8152714,\n",
              " -32.68056,\n",
              " -60.072605,\n",
              " -53.471012,\n",
              " 5.7180853,\n",
              " 10.47664,\n",
              " -34.355034,\n",
              " 3.5269148,\n",
              " -589.67737,\n",
              " 0.17681348,\n",
              " 4.7933116,\n",
              " -27.611155,\n",
              " -151.41954,\n",
              " 5.2080584,\n",
              " ...]"
            ]
          },
          "metadata": {
            "tags": []
          },
          "execution_count": 24
        }
      ]
    },
    {
      "cell_type": "code",
      "metadata": {
        "colab": {
          "base_uri": "https://localhost:8080/",
          "height": 402
        },
        "id": "a7k34cmEPA_g",
        "outputId": "608493b6-c0a1-489b-c838-378d66f8f196"
      },
      "source": [
        "res['id'] = names\n",
        "res['classification_predictions'] = classes_np\n",
        "res['regression_predictions'] = regress\n",
        "res"
      ],
      "execution_count": null,
      "outputs": [
        {
          "output_type": "execute_result",
          "data": {
            "text/plain": [
              "                                             id  classification_predictions  \\\n",
              "0      00013a94f1fae3e5a33f8b44c2842c85f0483e96                    0.889891   \n",
              "1      0005564c011259402dcb6e3beb6e64d285124fa0                    0.816650   \n",
              "2      0007520c8d8efade8feaafbf74fc7d206cdf229d                    0.935070   \n",
              "3      000804a189f630cd980ff1543c0ef99d48cd6b34                    0.952328   \n",
              "4      000eb12def5371089743dcfe401a8e399f5883fc                    0.933790   \n",
              "...                                         ...                         ...   \n",
              "16555  ff343a62752061d995f94ebc10ac53f79d1b5ab1                    0.918638   \n",
              "16556  ff897755cb312cd6f510ba7a38cb293e648d97d5                    0.913169   \n",
              "16557  ff9a93402457ac514cd069a7ce3f2e32692f5290                    0.972581   \n",
              "16558  ffedc12ec5c142dae2086408b778cf0db2ff944e                    0.910288   \n",
              "16559  fffdd654bd60b81ffd51a723a8839b8f5381feba                    0.950506   \n",
              "\n",
              "       regression_predictions  \n",
              "0                          10  \n",
              "1                          30  \n",
              "2                          30  \n",
              "3                           1  \n",
              "4                          30  \n",
              "...                       ...  \n",
              "16555                       3  \n",
              "16556                       3  \n",
              "16557                      20  \n",
              "16558                       3  \n",
              "16559                       1  \n",
              "\n",
              "[16560 rows x 3 columns]"
            ],
            "text/html": [
              "<div>\n",
              "<style scoped>\n",
              "    .dataframe tbody tr th:only-of-type {\n",
              "        vertical-align: middle;\n",
              "    }\n",
              "\n",
              "    .dataframe tbody tr th {\n",
              "        vertical-align: top;\n",
              "    }\n",
              "\n",
              "    .dataframe thead th {\n",
              "        text-align: right;\n",
              "    }\n",
              "</style>\n",
              "<table border=\"1\" class=\"dataframe\">\n",
              "  <thead>\n",
              "    <tr style=\"text-align: right;\">\n",
              "      <th></th>\n",
              "      <th>id</th>\n",
              "      <th>classification_predictions</th>\n",
              "      <th>regression_predictions</th>\n",
              "    </tr>\n",
              "  </thead>\n",
              "  <tbody>\n",
              "    <tr>\n",
              "      <th>0</th>\n",
              "      <td>00013a94f1fae3e5a33f8b44c2842c85f0483e96</td>\n",
              "      <td>0.889891</td>\n",
              "      <td>10</td>\n",
              "    </tr>\n",
              "    <tr>\n",
              "      <th>1</th>\n",
              "      <td>0005564c011259402dcb6e3beb6e64d285124fa0</td>\n",
              "      <td>0.816650</td>\n",
              "      <td>30</td>\n",
              "    </tr>\n",
              "    <tr>\n",
              "      <th>2</th>\n",
              "      <td>0007520c8d8efade8feaafbf74fc7d206cdf229d</td>\n",
              "      <td>0.935070</td>\n",
              "      <td>30</td>\n",
              "    </tr>\n",
              "    <tr>\n",
              "      <th>3</th>\n",
              "      <td>000804a189f630cd980ff1543c0ef99d48cd6b34</td>\n",
              "      <td>0.952328</td>\n",
              "      <td>1</td>\n",
              "    </tr>\n",
              "    <tr>\n",
              "      <th>4</th>\n",
              "      <td>000eb12def5371089743dcfe401a8e399f5883fc</td>\n",
              "      <td>0.933790</td>\n",
              "      <td>30</td>\n",
              "    </tr>\n",
              "    <tr>\n",
              "      <th>...</th>\n",
              "      <td>...</td>\n",
              "      <td>...</td>\n",
              "      <td>...</td>\n",
              "    </tr>\n",
              "    <tr>\n",
              "      <th>16555</th>\n",
              "      <td>ff343a62752061d995f94ebc10ac53f79d1b5ab1</td>\n",
              "      <td>0.918638</td>\n",
              "      <td>3</td>\n",
              "    </tr>\n",
              "    <tr>\n",
              "      <th>16556</th>\n",
              "      <td>ff897755cb312cd6f510ba7a38cb293e648d97d5</td>\n",
              "      <td>0.913169</td>\n",
              "      <td>3</td>\n",
              "    </tr>\n",
              "    <tr>\n",
              "      <th>16557</th>\n",
              "      <td>ff9a93402457ac514cd069a7ce3f2e32692f5290</td>\n",
              "      <td>0.972581</td>\n",
              "      <td>20</td>\n",
              "    </tr>\n",
              "    <tr>\n",
              "      <th>16558</th>\n",
              "      <td>ffedc12ec5c142dae2086408b778cf0db2ff944e</td>\n",
              "      <td>0.910288</td>\n",
              "      <td>3</td>\n",
              "    </tr>\n",
              "    <tr>\n",
              "      <th>16559</th>\n",
              "      <td>fffdd654bd60b81ffd51a723a8839b8f5381feba</td>\n",
              "      <td>0.950506</td>\n",
              "      <td>1</td>\n",
              "    </tr>\n",
              "  </tbody>\n",
              "</table>\n",
              "<p>16560 rows × 3 columns</p>\n",
              "</div>"
            ]
          },
          "metadata": {
            "tags": []
          },
          "execution_count": 25
        }
      ]
    },
    {
      "cell_type": "code",
      "metadata": {
        "id": "TSWdaqD0Pfvp"
      },
      "source": [
        "res.to_csv('C:\\\\Users\\\\Timofey\\\\result_idao2021_2.csv', index=False)"
      ],
      "execution_count": null,
      "outputs": []
    },
    {
      "cell_type": "code",
      "metadata": {
        "colab": {
          "base_uri": "https://localhost:8080/"
        },
        "id": "9rwkfcMzPjse",
        "outputId": "fdcbc8c0-deec-4870-8ce6-958338cfd300"
      },
      "source": [
        ""
      ],
      "execution_count": null,
      "outputs": [
        {
          "output_type": "execute_result",
          "data": {
            "text/plain": [
              "'000a95ca23df016a149ff9af94b6e9d8633d6691'"
            ]
          },
          "metadata": {
            "tags": []
          },
          "execution_count": 23
        }
      ]
    }
  ]
}